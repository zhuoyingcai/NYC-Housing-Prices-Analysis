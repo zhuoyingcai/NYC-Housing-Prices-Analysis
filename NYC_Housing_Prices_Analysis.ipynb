{
  "nbformat": 4,
  "nbformat_minor": 0,
  "metadata": {
    "colab": {
      "name": "NYC-Housing-Prices-Analysis.ipynb",
      "version": "0.3.2",
      "provenance": [],
      "collapsed_sections": [],
      "include_colab_link": true
    },
    "kernelspec": {
      "name": "python3",
      "display_name": "Python 3"
    }
  },
  "cells": [
    {
      "cell_type": "markdown",
      "metadata": {
        "id": "view-in-github",
        "colab_type": "text"
      },
      "source": [
        "<a href=\"https://colab.research.google.com/github/zhuoyingcai/NYC-Housing-Prices-Analysis/blob/master/NYC_Housing_Prices_Analysis.ipynb\" target=\"_parent\"><img src=\"https://colab.research.google.com/assets/colab-badge.svg\" alt=\"Open In Colab\"/></a>"
      ]
    },
    {
      "metadata": {
        "id": "BoI8MF5o6pCd",
        "colab_type": "text"
      },
      "cell_type": "markdown",
      "source": [
        "# Import Section"
      ]
    },
    {
      "metadata": {
        "id": "IV9IUadr6ZXb",
        "colab_type": "code",
        "colab": {}
      },
      "cell_type": "code",
      "source": [
        "import os\n",
        "\n",
        "# Data\n",
        "import numpy as np\n",
        "import pandas as pd\n",
        "\n",
        "# Plot\n",
        "import matplotlib.pyplot as plt\n"
      ],
      "execution_count": 0,
      "outputs": []
    },
    {
      "metadata": {
        "id": "rmJhgPZb8OyS",
        "colab_type": "text"
      },
      "cell_type": "markdown",
      "source": [
        "# Path Functions"
      ]
    },
    {
      "metadata": {
        "id": "OG7O-SNQ8PpV",
        "colab_type": "code",
        "colab": {}
      },
      "cell_type": "code",
      "source": [
        "def ensure_dir(path_to_dir):\n",
        "  try:\n",
        "      os.makedirs(path_to_dir)\n",
        "  except FileExistsError:\n",
        "      # directory already exists\n",
        "      pass"
      ],
      "execution_count": 0,
      "outputs": []
    },
    {
      "metadata": {
        "id": "bODbQ3_67Lpx",
        "colab_type": "text"
      },
      "cell_type": "markdown",
      "source": [
        "# Config"
      ]
    },
    {
      "metadata": {
        "id": "m5d_W3Ir7Na2",
        "colab_type": "code",
        "outputId": "7018d571-9946-4782-f3ab-a3b1ee1f9614",
        "colab": {
          "base_uri": "https://localhost:8080/",
          "height": 189
        }
      },
      "cell_type": "code",
      "source": [
        "# path config\n",
        "annualizedSalesUpdate_data_dir = '/content/drive/My Drive/Colab Notebooks/dataScience/annualizedSalesUpdate'\n",
        "data_dir = '/content/drive/My Drive/Colab Notebooks/dataScience/data'\n",
        "\n",
        "# mount google drive\n",
        "from google.colab import drive\n",
        "drive.mount('/content/drive')\n",
        "\n",
        "# make sure dir exist\n",
        "ensure_dir(data_dir)"
      ],
      "execution_count": 3,
      "outputs": [
        {
          "output_type": "stream",
          "text": [
            "Go to this URL in a browser: https://accounts.google.com/o/oauth2/auth?client_id=947318989803-6bn6qk8qdgf4n4g3pfee6491hc0brc4i.apps.googleusercontent.com&redirect_uri=urn%3Aietf%3Awg%3Aoauth%3A2.0%3Aoob&scope=email%20https%3A%2F%2Fwww.googleapis.com%2Fauth%2Fdocs.test%20https%3A%2F%2Fwww.googleapis.com%2Fauth%2Fdrive%20https%3A%2F%2Fwww.googleapis.com%2Fauth%2Fdrive.photos.readonly%20https%3A%2F%2Fwww.googleapis.com%2Fauth%2Fpeopleapi.readonly&response_type=code\n",
            "\n",
            "Enter your authorization code:\n",
            "··········\n",
            "Mounted at /content/drive\n"
          ],
          "name": "stdout"
        }
      ]
    },
    {
      "metadata": {
        "id": "ldcq_ZNq79Vg",
        "colab_type": "text"
      },
      "cell_type": "markdown",
      "source": [
        "# Load and summarize data"
      ]
    },
    {
      "metadata": {
        "id": "hGvvrBif78dK",
        "colab_type": "code",
        "colab": {}
      },
      "cell_type": "code",
      "source": [
        "# define dataframe\n",
        "df_bronx = pd.DataFrame()\n",
        "df_brooklyn = pd.DataFrame()\n",
        "df_manhattan = pd.DataFrame()\n",
        "df_queens = pd.DataFrame()\n",
        "df_statenisland = pd.DataFrame()"
      ],
      "execution_count": 0,
      "outputs": []
    },
    {
      "metadata": {
        "id": "O7iUt7PPfkkq",
        "colab_type": "code",
        "colab": {
          "base_uri": "https://localhost:8080/",
          "height": 74
        },
        "outputId": "89074103-b042-46b9-c2b4-af8dda85b14f"
      },
      "cell_type": "code",
      "source": [
        "# load bronx data\n",
        "for year in range(2006,2019):\n",
        "    path = annualizedSalesUpdate_data_dir + '/%s_bronx.xls' % (year)\n",
        "    data = pd.read_excel(path, header=4)\n",
        "    df_bronx = df_bronx.append(data, sort=False)\n",
        "\"\"\"\n",
        "# load brooklyn data\n",
        "for year in range(2006,2019):\n",
        "    path = annualizedSalesUpdate_data_dir + '/%s_brooklyn.xls' % (year)\n",
        "    data = pd.read_excel(path, header=4)\n",
        "    df_brooklyn = df_brooklyn.append(data, sort=False)\n",
        "    \n",
        "# load manhattan data\n",
        "for year in range(2006,2019):\n",
        "    path = annualizedSalesUpdate_data_dir + '/%s_manhattan.xls' % (year)\n",
        "    data = pd.read_excel(path, header=4)\n",
        "    df_manhattan = df_manhattan.append(data, sort=False)\n",
        "\n",
        "# load queens data\n",
        "for year in range(2006,2019):\n",
        "    path = annualizedSalesUpdate_data_dir + '/%s_queens.xls' % (year)\n",
        "    data = pd.read_excel(path, header=4)\n",
        "    df_queens = df_queens.append(data, sort=False)\n",
        "    \n",
        "# load statenisland data\n",
        "for year in range(2006,2019):\n",
        "    path = annualizedSalesUpdate_data_dir + '/%s_statenisland.xls' % (year)\n",
        "    data = pd.read_excel(path, header=4)\n",
        "    df_statenisland = df_statenisland.append(data, sort=False)\n",
        "\"\"\""
      ],
      "execution_count": 6,
      "outputs": [
        {
          "output_type": "execute_result",
          "data": {
            "text/plain": [
              "\"\\n# load brooklyn data\\nfor year in range(2006,2019):\\n    path = annualizedSalesUpdate_data_dir + '/%s_brooklyn.xls' % (year)\\n    data = pd.read_excel(path, header=4)\\n    df_brooklyn = df_brooklyn.append(data, sort=False)\\n    \\n# load manhattan data\\nfor year in range(2006,2019):\\n    path = annualizedSalesUpdate_data_dir + '/%s_manhattan.xls' % (year)\\n    data = pd.read_excel(path, header=4)\\n    df_manhattan = df_manhattan.append(data, sort=False)\\n\\n# load queens data\\nfor year in range(2006,2019):\\n    path = annualizedSalesUpdate_data_dir + '/%s_queens.xls' % (year)\\n    data = pd.read_excel(path, header=4)\\n    df_queens = df_queens.append(data, sort=False)\\n    \\n# load statenisland data\\nfor year in range(2006,2019):\\n    path = annualizedSalesUpdate_data_dir + '/%s_statenisland.xls' % (year)\\n    data = pd.read_excel(path, header=4)\\n    df_statenisland = df_statenisland.append(data, sort=False)\\n\""
            ]
          },
          "metadata": {
            "tags": []
          },
          "execution_count": 6
        }
      ]
    },
    {
      "metadata": {
        "id": "h72oXx5_cQiB",
        "colab_type": "code",
        "outputId": "a472dcf3-0609-446c-8d52-964f8938c764",
        "colab": {
          "base_uri": "https://localhost:8080/",
          "height": 459
        }
      },
      "cell_type": "code",
      "source": [
        "# df_bronx.head(20)\n",
        "df_bronx.info()\n",
        "\n"
      ],
      "execution_count": 10,
      "outputs": [
        {
          "output_type": "stream",
          "text": [
            "<class 'pandas.core.frame.DataFrame'>\n",
            "Int64Index: 88640 entries, 0 to 7697\n",
            "Data columns (total 21 columns):\n",
            "BOROUGH                           88640 non-null int64\n",
            "NEIGHBORHOOD                      88640 non-null object\n",
            "BUILDING CLASS CATEGORY           88640 non-null object\n",
            "TAX CLASS AT PRESENT              88640 non-null object\n",
            "BLOCK                             88640 non-null int64\n",
            "LOT                               88640 non-null int64\n",
            "EASE-MENT                         80942 non-null object\n",
            "BUILDING CLASS AT PRESENT         88640 non-null object\n",
            "ADDRESS                           88640 non-null object\n",
            "APARTMENT NUMBER                  81666 non-null object\n",
            "ZIP CODE                          88640 non-null int64\n",
            "RESIDENTIAL UNITS                 88640 non-null int64\n",
            "COMMERCIAL UNITS                  88640 non-null int64\n",
            "TOTAL UNITS                       88640 non-null int64\n",
            "LAND SQUARE FEET                  88640 non-null int64\n",
            "GROSS SQUARE FEET                 88640 non-null int64\n",
            "YEAR BUILT                        88640 non-null int64\n",
            "TAX CLASS AT TIME OF SALE         88640 non-null int64\n",
            "BUILDING CLASS AT TIME OF SALE    88640 non-null object\n",
            "SALE PRICE                        88640 non-null int64\n",
            "SALE DATE                         88640 non-null datetime64[ns]\n",
            "dtypes: datetime64[ns](1), int64(12), object(8)\n",
            "memory usage: 14.9+ MB\n"
          ],
          "name": "stdout"
        }
      ]
    }
  ]
}