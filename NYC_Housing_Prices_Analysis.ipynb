{
  "nbformat": 4,
  "nbformat_minor": 0,
  "metadata": {
    "colab": {
      "name": "NYC-Housing-Prices-Analysis.ipynb",
      "version": "0.3.2",
      "provenance": [],
      "collapsed_sections": [],
      "include_colab_link": true
    },
    "kernelspec": {
      "name": "python3",
      "display_name": "Python 3"
    },
    "accelerator": "GPU"
  },
  "cells": [
    {
      "cell_type": "markdown",
      "metadata": {
        "id": "view-in-github",
        "colab_type": "text"
      },
      "source": [
        "<a href=\"https://colab.research.google.com/github/zhuoyingcai/NYC-Housing-Prices-Analysis/blob/master/NYC_Housing_Prices_Analysis.ipynb\" target=\"_parent\"><img src=\"https://colab.research.google.com/assets/colab-badge.svg\" alt=\"Open In Colab\"/></a>"
      ]
    },
    {
      "cell_type": "markdown",
      "metadata": {
        "id": "BoI8MF5o6pCd",
        "colab_type": "text"
      },
      "source": [
        "# Import Section"
      ]
    },
    {
      "cell_type": "code",
      "metadata": {
        "id": "IV9IUadr6ZXb",
        "colab_type": "code",
        "outputId": "77b9d7ab-d4f9-45bc-e0fe-5191c4bd83c8",
        "colab": {
          "base_uri": "https://localhost:8080/",
          "height": 284
        }
      },
      "source": [
        "import os\n",
        "import requests\n",
        "\n",
        "# Data\n",
        "import numpy as np\n",
        "import pandas as pd\n",
        "\n",
        "from scipy import stats\n",
        "\n",
        "# Plot\n",
        "import seaborn as sns\n",
        "import matplotlib.pyplot as plt\n",
        "import altair as alt\n",
        "!pip install geopandas\n",
        "import geopandas as gpd\n",
        "\n",
        "import json"
      ],
      "execution_count": 106,
      "outputs": [
        {
          "output_type": "stream",
          "text": [
            "Requirement already satisfied: geopandas in /usr/local/lib/python3.6/dist-packages (0.5.0)\n",
            "Requirement already satisfied: shapely in /usr/local/lib/python3.6/dist-packages (from geopandas) (1.6.4.post2)\n",
            "Requirement already satisfied: pandas in /usr/local/lib/python3.6/dist-packages (from geopandas) (0.24.2)\n",
            "Requirement already satisfied: pyproj in /usr/local/lib/python3.6/dist-packages (from geopandas) (2.1.3)\n",
            "Requirement already satisfied: fiona in /usr/local/lib/python3.6/dist-packages (from geopandas) (1.8.6)\n",
            "Requirement already satisfied: python-dateutil>=2.5.0 in /usr/local/lib/python3.6/dist-packages (from pandas->geopandas) (2.5.3)\n",
            "Requirement already satisfied: numpy>=1.12.0 in /usr/local/lib/python3.6/dist-packages (from pandas->geopandas) (1.16.3)\n",
            "Requirement already satisfied: pytz>=2011k in /usr/local/lib/python3.6/dist-packages (from pandas->geopandas) (2018.9)\n",
            "Requirement already satisfied: attrs>=17 in /usr/local/lib/python3.6/dist-packages (from fiona->geopandas) (19.1.0)\n",
            "Requirement already satisfied: six>=1.7 in /usr/local/lib/python3.6/dist-packages (from fiona->geopandas) (1.12.0)\n",
            "Requirement already satisfied: click<8,>=4.0 in /usr/local/lib/python3.6/dist-packages (from fiona->geopandas) (7.0)\n",
            "Requirement already satisfied: click-plugins>=1.0 in /usr/local/lib/python3.6/dist-packages (from fiona->geopandas) (1.1.1)\n",
            "Requirement already satisfied: cligj>=0.5 in /usr/local/lib/python3.6/dist-packages (from fiona->geopandas) (0.5.0)\n",
            "Requirement already satisfied: munch in /usr/local/lib/python3.6/dist-packages (from fiona->geopandas) (2.3.2)\n"
          ],
          "name": "stdout"
        }
      ]
    },
    {
      "cell_type": "markdown",
      "metadata": {
        "id": "rmJhgPZb8OyS",
        "colab_type": "text"
      },
      "source": [
        "# Path Functions"
      ]
    },
    {
      "cell_type": "code",
      "metadata": {
        "id": "OG7O-SNQ8PpV",
        "colab_type": "code",
        "colab": {}
      },
      "source": [
        "def ensure_dir(path_to_dir):\n",
        "  try:\n",
        "      os.makedirs(path_to_dir)\n",
        "  except FileExistsError:\n",
        "      # directory already exists\n",
        "      pass"
      ],
      "execution_count": 0,
      "outputs": []
    },
    {
      "cell_type": "markdown",
      "metadata": {
        "id": "bODbQ3_67Lpx",
        "colab_type": "text"
      },
      "source": [
        "# Config"
      ]
    },
    {
      "cell_type": "code",
      "metadata": {
        "id": "m5d_W3Ir7Na2",
        "colab_type": "code",
        "outputId": "c09a76f5-d3b7-4b13-f8d7-c4acaecaecf0",
        "colab": {
          "base_uri": "https://localhost:8080/",
          "height": 34
        }
      },
      "source": [
        "# path config\n",
        "annualizedSalesUpdate_data_dir = '/content/drive/My Drive/Colab Notebooks/dataScience/annualizedSalesUpdate'\n",
        "data_dir = '/content/drive/My Drive/Colab Notebooks/dataScience/data'\n",
        "\n",
        "# mount google drive\n",
        "from google.colab import drive\n",
        "drive.mount('/content/drive')\n",
        "\n",
        "# make sure dir exist\n",
        "ensure_dir(data_dir)"
      ],
      "execution_count": 108,
      "outputs": [
        {
          "output_type": "stream",
          "text": [
            "Drive already mounted at /content/drive; to attempt to forcibly remount, call drive.mount(\"/content/drive\", force_remount=True).\n"
          ],
          "name": "stdout"
        }
      ]
    },
    {
      "cell_type": "markdown",
      "metadata": {
        "id": "ldcq_ZNq79Vg",
        "colab_type": "text"
      },
      "source": [
        "# 1. Load and summarize data"
      ]
    },
    {
      "cell_type": "code",
      "metadata": {
        "id": "hGvvrBif78dK",
        "colab_type": "code",
        "colab": {}
      },
      "source": [
        "# define dataframe\n",
        "df = pd.DataFrame()"
      ],
      "execution_count": 0,
      "outputs": []
    },
    {
      "cell_type": "code",
      "metadata": {
        "id": "O7iUt7PPfkkq",
        "colab_type": "code",
        "colab": {}
      },
      "source": [
        "years = [2017, 2018]\n",
        "boroughs = ['bronx', 'brooklyn', 'manhattan', 'queens', 'statenisland']\n",
        "\n",
        "# load data\n",
        "for year in years:\n",
        "  for borough in boroughs:\n",
        "    path = annualizedSalesUpdate_data_dir + '/%s_%s.xls' % (year, borough)\n",
        "    data = pd.read_excel(path, header=4)\n",
        "    df = df.append(data, sort=False)"
      ],
      "execution_count": 0,
      "outputs": []
    },
    {
      "cell_type": "markdown",
      "metadata": {
        "id": "wx51wCkTBuaa",
        "colab_type": "text"
      },
      "source": [
        "We first visually inspect the data to see if there is any missing data or incorrect data types. Also, we may want to edit data entry."
      ]
    },
    {
      "cell_type": "code",
      "metadata": {
        "id": "h72oXx5_cQiB",
        "colab_type": "code",
        "outputId": "b3a0ba1b-303d-4241-8c0c-6bd11a4170e4",
        "colab": {
          "base_uri": "https://localhost:8080/",
          "height": 459
        }
      },
      "source": [
        "df.info()"
      ],
      "execution_count": 111,
      "outputs": [
        {
          "output_type": "stream",
          "text": [
            "<class 'pandas.core.frame.DataFrame'>\n",
            "Int64Index: 170407 entries, 0 to 8385\n",
            "Data columns (total 21 columns):\n",
            "BOROUGH                           170407 non-null int64\n",
            "NEIGHBORHOOD                      170407 non-null object\n",
            "BUILDING CLASS CATEGORY           170407 non-null object\n",
            "TAX CLASS AT PRESENT              170349 non-null object\n",
            "BLOCK                             170407 non-null int64\n",
            "LOT                               170407 non-null int64\n",
            "EASE-MENT                         88660 non-null object\n",
            "BUILDING CLASS AT PRESENT         170349 non-null object\n",
            "ADDRESS                           170407 non-null object\n",
            "APARTMENT NUMBER                  106536 non-null object\n",
            "ZIP CODE                          170393 non-null float64\n",
            "RESIDENTIAL UNITS                 170349 non-null float64\n",
            "COMMERCIAL UNITS                  170349 non-null float64\n",
            "TOTAL UNITS                       170349 non-null float64\n",
            "LAND SQUARE FEET                  170346 non-null float64\n",
            "GROSS SQUARE FEET                 170349 non-null float64\n",
            "YEAR BUILT                        170388 non-null float64\n",
            "TAX CLASS AT TIME OF SALE         170407 non-null int64\n",
            "BUILDING CLASS AT TIME OF SALE    170407 non-null object\n",
            "SALE PRICE                        170407 non-null int64\n",
            "SALE DATE                         170407 non-null datetime64[ns]\n",
            "dtypes: datetime64[ns](1), float64(7), int64(5), object(8)\n",
            "memory usage: 28.6+ MB\n"
          ],
          "name": "stdout"
        }
      ]
    },
    {
      "cell_type": "code",
      "metadata": {
        "id": "hvtgoEbMAdAS",
        "colab_type": "code",
        "outputId": "f14855cc-aa71-419d-d504-d295263f4a87",
        "colab": {
          "base_uri": "https://localhost:8080/",
          "height": 853
        }
      },
      "source": [
        "df.head(10)"
      ],
      "execution_count": 112,
      "outputs": [
        {
          "output_type": "execute_result",
          "data": {
            "text/html": [
              "<div>\n",
              "<style scoped>\n",
              "    .dataframe tbody tr th:only-of-type {\n",
              "        vertical-align: middle;\n",
              "    }\n",
              "\n",
              "    .dataframe tbody tr th {\n",
              "        vertical-align: top;\n",
              "    }\n",
              "\n",
              "    .dataframe thead th {\n",
              "        text-align: right;\n",
              "    }\n",
              "</style>\n",
              "<table border=\"1\" class=\"dataframe\">\n",
              "  <thead>\n",
              "    <tr style=\"text-align: right;\">\n",
              "      <th></th>\n",
              "      <th>BOROUGH</th>\n",
              "      <th>NEIGHBORHOOD</th>\n",
              "      <th>BUILDING CLASS CATEGORY</th>\n",
              "      <th>TAX CLASS AT PRESENT</th>\n",
              "      <th>BLOCK</th>\n",
              "      <th>LOT</th>\n",
              "      <th>EASE-MENT</th>\n",
              "      <th>BUILDING CLASS AT PRESENT</th>\n",
              "      <th>ADDRESS</th>\n",
              "      <th>APARTMENT NUMBER</th>\n",
              "      <th>...</th>\n",
              "      <th>RESIDENTIAL UNITS</th>\n",
              "      <th>COMMERCIAL UNITS</th>\n",
              "      <th>TOTAL UNITS</th>\n",
              "      <th>LAND SQUARE FEET</th>\n",
              "      <th>GROSS SQUARE FEET</th>\n",
              "      <th>YEAR BUILT</th>\n",
              "      <th>TAX CLASS AT TIME OF SALE</th>\n",
              "      <th>BUILDING CLASS AT TIME OF SALE</th>\n",
              "      <th>SALE PRICE</th>\n",
              "      <th>SALE DATE</th>\n",
              "    </tr>\n",
              "  </thead>\n",
              "  <tbody>\n",
              "    <tr>\n",
              "      <th>0</th>\n",
              "      <td>2</td>\n",
              "      <td>BATHGATE</td>\n",
              "      <td>01 ONE FAMILY DWELLINGS</td>\n",
              "      <td>1</td>\n",
              "      <td>3028</td>\n",
              "      <td>25</td>\n",
              "      <td></td>\n",
              "      <td>A5</td>\n",
              "      <td>412 EAST 179 STREET</td>\n",
              "      <td></td>\n",
              "      <td>...</td>\n",
              "      <td>1.0</td>\n",
              "      <td>0.0</td>\n",
              "      <td>1.0</td>\n",
              "      <td>1842.0</td>\n",
              "      <td>2048.0</td>\n",
              "      <td>1901.0</td>\n",
              "      <td>1</td>\n",
              "      <td>A5</td>\n",
              "      <td>0</td>\n",
              "      <td>2017-04-04</td>\n",
              "    </tr>\n",
              "    <tr>\n",
              "      <th>1</th>\n",
              "      <td>2</td>\n",
              "      <td>BATHGATE</td>\n",
              "      <td>01 ONE FAMILY DWELLINGS</td>\n",
              "      <td>1</td>\n",
              "      <td>3030</td>\n",
              "      <td>55</td>\n",
              "      <td></td>\n",
              "      <td>A5</td>\n",
              "      <td>410 EAST 182ND STREET</td>\n",
              "      <td></td>\n",
              "      <td>...</td>\n",
              "      <td>1.0</td>\n",
              "      <td>0.0</td>\n",
              "      <td>1.0</td>\n",
              "      <td>1330.0</td>\n",
              "      <td>1460.0</td>\n",
              "      <td>1899.0</td>\n",
              "      <td>1</td>\n",
              "      <td>A5</td>\n",
              "      <td>305000</td>\n",
              "      <td>2017-07-18</td>\n",
              "    </tr>\n",
              "    <tr>\n",
              "      <th>2</th>\n",
              "      <td>2</td>\n",
              "      <td>BATHGATE</td>\n",
              "      <td>01 ONE FAMILY DWELLINGS</td>\n",
              "      <td>1</td>\n",
              "      <td>3030</td>\n",
              "      <td>56</td>\n",
              "      <td></td>\n",
              "      <td>A1</td>\n",
              "      <td>412 EAST 182 STREET</td>\n",
              "      <td></td>\n",
              "      <td>...</td>\n",
              "      <td>1.0</td>\n",
              "      <td>0.0</td>\n",
              "      <td>1.0</td>\n",
              "      <td>1306.0</td>\n",
              "      <td>1440.0</td>\n",
              "      <td>1899.0</td>\n",
              "      <td>1</td>\n",
              "      <td>A1</td>\n",
              "      <td>178000</td>\n",
              "      <td>2017-01-19</td>\n",
              "    </tr>\n",
              "    <tr>\n",
              "      <th>3</th>\n",
              "      <td>2</td>\n",
              "      <td>BATHGATE</td>\n",
              "      <td>01 ONE FAMILY DWELLINGS</td>\n",
              "      <td>1</td>\n",
              "      <td>3030</td>\n",
              "      <td>56</td>\n",
              "      <td></td>\n",
              "      <td>A1</td>\n",
              "      <td>412 EAST 182 STREET</td>\n",
              "      <td></td>\n",
              "      <td>...</td>\n",
              "      <td>1.0</td>\n",
              "      <td>0.0</td>\n",
              "      <td>1.0</td>\n",
              "      <td>1306.0</td>\n",
              "      <td>1440.0</td>\n",
              "      <td>1899.0</td>\n",
              "      <td>1</td>\n",
              "      <td>A1</td>\n",
              "      <td>449000</td>\n",
              "      <td>2017-07-14</td>\n",
              "    </tr>\n",
              "    <tr>\n",
              "      <th>4</th>\n",
              "      <td>2</td>\n",
              "      <td>BATHGATE</td>\n",
              "      <td>01 ONE FAMILY DWELLINGS</td>\n",
              "      <td>1</td>\n",
              "      <td>3030</td>\n",
              "      <td>65</td>\n",
              "      <td></td>\n",
              "      <td>A1</td>\n",
              "      <td>4455 PARK AVENUE</td>\n",
              "      <td></td>\n",
              "      <td>...</td>\n",
              "      <td>1.0</td>\n",
              "      <td>0.0</td>\n",
              "      <td>1.0</td>\n",
              "      <td>1622.0</td>\n",
              "      <td>1587.0</td>\n",
              "      <td>1899.0</td>\n",
              "      <td>1</td>\n",
              "      <td>A1</td>\n",
              "      <td>140000</td>\n",
              "      <td>2017-05-12</td>\n",
              "    </tr>\n",
              "    <tr>\n",
              "      <th>5</th>\n",
              "      <td>2</td>\n",
              "      <td>BATHGATE</td>\n",
              "      <td>01 ONE FAMILY DWELLINGS</td>\n",
              "      <td>1</td>\n",
              "      <td>3030</td>\n",
              "      <td>70</td>\n",
              "      <td></td>\n",
              "      <td>A1</td>\n",
              "      <td>4445 PARK AVENUE</td>\n",
              "      <td></td>\n",
              "      <td>...</td>\n",
              "      <td>1.0</td>\n",
              "      <td>0.0</td>\n",
              "      <td>1.0</td>\n",
              "      <td>1694.0</td>\n",
              "      <td>1497.0</td>\n",
              "      <td>1899.0</td>\n",
              "      <td>1</td>\n",
              "      <td>A1</td>\n",
              "      <td>246000</td>\n",
              "      <td>2017-11-06</td>\n",
              "    </tr>\n",
              "    <tr>\n",
              "      <th>6</th>\n",
              "      <td>2</td>\n",
              "      <td>BATHGATE</td>\n",
              "      <td>01 ONE FAMILY DWELLINGS</td>\n",
              "      <td>1</td>\n",
              "      <td>3036</td>\n",
              "      <td>13</td>\n",
              "      <td></td>\n",
              "      <td>A1</td>\n",
              "      <td>4348 PARK AVENUE</td>\n",
              "      <td></td>\n",
              "      <td>...</td>\n",
              "      <td>1.0</td>\n",
              "      <td>0.0</td>\n",
              "      <td>1.0</td>\n",
              "      <td>3525.0</td>\n",
              "      <td>1764.0</td>\n",
              "      <td>1899.0</td>\n",
              "      <td>1</td>\n",
              "      <td>A1</td>\n",
              "      <td>420000</td>\n",
              "      <td>2017-02-03</td>\n",
              "    </tr>\n",
              "    <tr>\n",
              "      <th>7</th>\n",
              "      <td>2</td>\n",
              "      <td>BATHGATE</td>\n",
              "      <td>01 ONE FAMILY DWELLINGS</td>\n",
              "      <td>1</td>\n",
              "      <td>3037</td>\n",
              "      <td>42</td>\n",
              "      <td></td>\n",
              "      <td>A1</td>\n",
              "      <td>4428 PARK AVENUE</td>\n",
              "      <td></td>\n",
              "      <td>...</td>\n",
              "      <td>1.0</td>\n",
              "      <td>0.0</td>\n",
              "      <td>1.0</td>\n",
              "      <td>3525.0</td>\n",
              "      <td>1340.0</td>\n",
              "      <td>1899.0</td>\n",
              "      <td>1</td>\n",
              "      <td>A1</td>\n",
              "      <td>380250</td>\n",
              "      <td>2017-09-29</td>\n",
              "    </tr>\n",
              "    <tr>\n",
              "      <th>8</th>\n",
              "      <td>2</td>\n",
              "      <td>BATHGATE</td>\n",
              "      <td>01 ONE FAMILY DWELLINGS</td>\n",
              "      <td>1</td>\n",
              "      <td>3037</td>\n",
              "      <td>101</td>\n",
              "      <td></td>\n",
              "      <td>S0</td>\n",
              "      <td>443 EAST 180 STREET</td>\n",
              "      <td></td>\n",
              "      <td>...</td>\n",
              "      <td>1.0</td>\n",
              "      <td>2.0</td>\n",
              "      <td>3.0</td>\n",
              "      <td>1293.0</td>\n",
              "      <td>2820.0</td>\n",
              "      <td>1952.0</td>\n",
              "      <td>1</td>\n",
              "      <td>S0</td>\n",
              "      <td>325000</td>\n",
              "      <td>2017-11-13</td>\n",
              "    </tr>\n",
              "    <tr>\n",
              "      <th>9</th>\n",
              "      <td>2</td>\n",
              "      <td>BATHGATE</td>\n",
              "      <td>01 ONE FAMILY DWELLINGS</td>\n",
              "      <td>1</td>\n",
              "      <td>3043</td>\n",
              "      <td>55</td>\n",
              "      <td></td>\n",
              "      <td>A1</td>\n",
              "      <td>1948 BATHGATE AVENUE</td>\n",
              "      <td></td>\n",
              "      <td>...</td>\n",
              "      <td>1.0</td>\n",
              "      <td>0.0</td>\n",
              "      <td>1.0</td>\n",
              "      <td>2356.0</td>\n",
              "      <td>2047.0</td>\n",
              "      <td>1901.0</td>\n",
              "      <td>1</td>\n",
              "      <td>A1</td>\n",
              "      <td>127000</td>\n",
              "      <td>2017-08-22</td>\n",
              "    </tr>\n",
              "  </tbody>\n",
              "</table>\n",
              "<p>10 rows × 21 columns</p>\n",
              "</div>"
            ],
            "text/plain": [
              "   BOROUGH NEIGHBORHOOD                      BUILDING CLASS CATEGORY  \\\n",
              "0        2     BATHGATE  01 ONE FAMILY DWELLINGS                       \n",
              "1        2     BATHGATE  01 ONE FAMILY DWELLINGS                       \n",
              "2        2     BATHGATE  01 ONE FAMILY DWELLINGS                       \n",
              "3        2     BATHGATE  01 ONE FAMILY DWELLINGS                       \n",
              "4        2     BATHGATE  01 ONE FAMILY DWELLINGS                       \n",
              "5        2     BATHGATE  01 ONE FAMILY DWELLINGS                       \n",
              "6        2     BATHGATE  01 ONE FAMILY DWELLINGS                       \n",
              "7        2     BATHGATE  01 ONE FAMILY DWELLINGS                       \n",
              "8        2     BATHGATE  01 ONE FAMILY DWELLINGS                       \n",
              "9        2     BATHGATE  01 ONE FAMILY DWELLINGS                       \n",
              "\n",
              "  TAX CLASS AT PRESENT  BLOCK  LOT EASE-MENT BUILDING CLASS AT PRESENT  \\\n",
              "0                    1   3028   25                                  A5   \n",
              "1                    1   3030   55                                  A5   \n",
              "2                    1   3030   56                                  A1   \n",
              "3                    1   3030   56                                  A1   \n",
              "4                    1   3030   65                                  A1   \n",
              "5                    1   3030   70                                  A1   \n",
              "6                    1   3036   13                                  A1   \n",
              "7                    1   3037   42                                  A1   \n",
              "8                    1   3037  101                                  S0   \n",
              "9                    1   3043   55                                  A1   \n",
              "\n",
              "                 ADDRESS APARTMENT NUMBER  ...  RESIDENTIAL UNITS  \\\n",
              "0    412 EAST 179 STREET                   ...                1.0   \n",
              "1  410 EAST 182ND STREET                   ...                1.0   \n",
              "2    412 EAST 182 STREET                   ...                1.0   \n",
              "3    412 EAST 182 STREET                   ...                1.0   \n",
              "4       4455 PARK AVENUE                   ...                1.0   \n",
              "5       4445 PARK AVENUE                   ...                1.0   \n",
              "6       4348 PARK AVENUE                   ...                1.0   \n",
              "7       4428 PARK AVENUE                   ...                1.0   \n",
              "8    443 EAST 180 STREET                   ...                1.0   \n",
              "9   1948 BATHGATE AVENUE                   ...                1.0   \n",
              "\n",
              "   COMMERCIAL UNITS  TOTAL UNITS  LAND SQUARE FEET  GROSS SQUARE FEET  \\\n",
              "0               0.0          1.0            1842.0             2048.0   \n",
              "1               0.0          1.0            1330.0             1460.0   \n",
              "2               0.0          1.0            1306.0             1440.0   \n",
              "3               0.0          1.0            1306.0             1440.0   \n",
              "4               0.0          1.0            1622.0             1587.0   \n",
              "5               0.0          1.0            1694.0             1497.0   \n",
              "6               0.0          1.0            3525.0             1764.0   \n",
              "7               0.0          1.0            3525.0             1340.0   \n",
              "8               2.0          3.0            1293.0             2820.0   \n",
              "9               0.0          1.0            2356.0             2047.0   \n",
              "\n",
              "   YEAR BUILT  TAX CLASS AT TIME OF SALE  BUILDING CLASS AT TIME OF SALE  \\\n",
              "0      1901.0                          1                              A5   \n",
              "1      1899.0                          1                              A5   \n",
              "2      1899.0                          1                              A1   \n",
              "3      1899.0                          1                              A1   \n",
              "4      1899.0                          1                              A1   \n",
              "5      1899.0                          1                              A1   \n",
              "6      1899.0                          1                              A1   \n",
              "7      1899.0                          1                              A1   \n",
              "8      1952.0                          1                              S0   \n",
              "9      1901.0                          1                              A1   \n",
              "\n",
              "  SALE PRICE  SALE DATE  \n",
              "0          0 2017-04-04  \n",
              "1     305000 2017-07-18  \n",
              "2     178000 2017-01-19  \n",
              "3     449000 2017-07-14  \n",
              "4     140000 2017-05-12  \n",
              "5     246000 2017-11-06  \n",
              "6     420000 2017-02-03  \n",
              "7     380250 2017-09-29  \n",
              "8     325000 2017-11-13  \n",
              "9     127000 2017-08-22  \n",
              "\n",
              "[10 rows x 21 columns]"
            ]
          },
          "metadata": {
            "tags": []
          },
          "execution_count": 112
        }
      ]
    },
    {
      "cell_type": "code",
      "metadata": {
        "colab_type": "code",
        "outputId": "11d1d2e2-09cb-4cfb-c1ab-b8ca3fe1403d",
        "id": "-L7JIUjNeqeV",
        "colab": {
          "base_uri": "https://localhost:8080/",
          "height": 613
        }
      },
      "source": [
        "df.tail()"
      ],
      "execution_count": 113,
      "outputs": [
        {
          "output_type": "execute_result",
          "data": {
            "text/html": [
              "<div>\n",
              "<style scoped>\n",
              "    .dataframe tbody tr th:only-of-type {\n",
              "        vertical-align: middle;\n",
              "    }\n",
              "\n",
              "    .dataframe tbody tr th {\n",
              "        vertical-align: top;\n",
              "    }\n",
              "\n",
              "    .dataframe thead th {\n",
              "        text-align: right;\n",
              "    }\n",
              "</style>\n",
              "<table border=\"1\" class=\"dataframe\">\n",
              "  <thead>\n",
              "    <tr style=\"text-align: right;\">\n",
              "      <th></th>\n",
              "      <th>BOROUGH</th>\n",
              "      <th>NEIGHBORHOOD</th>\n",
              "      <th>BUILDING CLASS CATEGORY</th>\n",
              "      <th>TAX CLASS AT PRESENT</th>\n",
              "      <th>BLOCK</th>\n",
              "      <th>LOT</th>\n",
              "      <th>EASE-MENT</th>\n",
              "      <th>BUILDING CLASS AT PRESENT</th>\n",
              "      <th>ADDRESS</th>\n",
              "      <th>APARTMENT NUMBER</th>\n",
              "      <th>...</th>\n",
              "      <th>RESIDENTIAL UNITS</th>\n",
              "      <th>COMMERCIAL UNITS</th>\n",
              "      <th>TOTAL UNITS</th>\n",
              "      <th>LAND SQUARE FEET</th>\n",
              "      <th>GROSS SQUARE FEET</th>\n",
              "      <th>YEAR BUILT</th>\n",
              "      <th>TAX CLASS AT TIME OF SALE</th>\n",
              "      <th>BUILDING CLASS AT TIME OF SALE</th>\n",
              "      <th>SALE PRICE</th>\n",
              "      <th>SALE DATE</th>\n",
              "    </tr>\n",
              "  </thead>\n",
              "  <tbody>\n",
              "    <tr>\n",
              "      <th>8381</th>\n",
              "      <td>5</td>\n",
              "      <td>WOODROW</td>\n",
              "      <td>05 TAX CLASS 1 VACANT LAND</td>\n",
              "      <td>1B</td>\n",
              "      <td>7094</td>\n",
              "      <td>61</td>\n",
              "      <td>NaN</td>\n",
              "      <td>V0</td>\n",
              "      <td>23 WILTSHIRE LANE</td>\n",
              "      <td>NaN</td>\n",
              "      <td>...</td>\n",
              "      <td>0.0</td>\n",
              "      <td>0.0</td>\n",
              "      <td>0.0</td>\n",
              "      <td>4427.0</td>\n",
              "      <td>0.0</td>\n",
              "      <td>2018.0</td>\n",
              "      <td>1</td>\n",
              "      <td>V0</td>\n",
              "      <td>793216</td>\n",
              "      <td>2018-05-25</td>\n",
              "    </tr>\n",
              "    <tr>\n",
              "      <th>8382</th>\n",
              "      <td>5</td>\n",
              "      <td>WOODROW</td>\n",
              "      <td>05 TAX CLASS 1 VACANT LAND</td>\n",
              "      <td>1</td>\n",
              "      <td>7267</td>\n",
              "      <td>289</td>\n",
              "      <td>NaN</td>\n",
              "      <td>A5</td>\n",
              "      <td>41 JADE COURT</td>\n",
              "      <td>NaN</td>\n",
              "      <td>...</td>\n",
              "      <td>1.0</td>\n",
              "      <td>0.0</td>\n",
              "      <td>1.0</td>\n",
              "      <td>2955.0</td>\n",
              "      <td>2612.0</td>\n",
              "      <td>2018.0</td>\n",
              "      <td>1</td>\n",
              "      <td>V0</td>\n",
              "      <td>671026</td>\n",
              "      <td>2018-10-04</td>\n",
              "    </tr>\n",
              "    <tr>\n",
              "      <th>8383</th>\n",
              "      <td>5</td>\n",
              "      <td>WOODROW</td>\n",
              "      <td>05 TAX CLASS 1 VACANT LAND</td>\n",
              "      <td>1</td>\n",
              "      <td>7267</td>\n",
              "      <td>298</td>\n",
              "      <td>NaN</td>\n",
              "      <td>A5</td>\n",
              "      <td>11 JADE COURT</td>\n",
              "      <td>NaN</td>\n",
              "      <td>...</td>\n",
              "      <td>1.0</td>\n",
              "      <td>0.0</td>\n",
              "      <td>1.0</td>\n",
              "      <td>4108.0</td>\n",
              "      <td>2612.0</td>\n",
              "      <td>2018.0</td>\n",
              "      <td>1</td>\n",
              "      <td>V0</td>\n",
              "      <td>610950</td>\n",
              "      <td>2018-07-23</td>\n",
              "    </tr>\n",
              "    <tr>\n",
              "      <th>8384</th>\n",
              "      <td>5</td>\n",
              "      <td>WOODROW</td>\n",
              "      <td>05 TAX CLASS 1 VACANT LAND</td>\n",
              "      <td>1</td>\n",
              "      <td>7267</td>\n",
              "      <td>299</td>\n",
              "      <td>NaN</td>\n",
              "      <td>A5</td>\n",
              "      <td>9 JADE COURT</td>\n",
              "      <td>NaN</td>\n",
              "      <td>...</td>\n",
              "      <td>1.0</td>\n",
              "      <td>0.0</td>\n",
              "      <td>1.0</td>\n",
              "      <td>11019.0</td>\n",
              "      <td>2612.0</td>\n",
              "      <td>2018.0</td>\n",
              "      <td>1</td>\n",
              "      <td>V0</td>\n",
              "      <td>672043</td>\n",
              "      <td>2018-08-07</td>\n",
              "    </tr>\n",
              "    <tr>\n",
              "      <th>8385</th>\n",
              "      <td>5</td>\n",
              "      <td>WOODROW</td>\n",
              "      <td>05 TAX CLASS 1 VACANT LAND</td>\n",
              "      <td>1B</td>\n",
              "      <td>7346</td>\n",
              "      <td>1</td>\n",
              "      <td>NaN</td>\n",
              "      <td>V0</td>\n",
              "      <td>GAYNOR STREET</td>\n",
              "      <td>NaN</td>\n",
              "      <td>...</td>\n",
              "      <td>0.0</td>\n",
              "      <td>0.0</td>\n",
              "      <td>0.0</td>\n",
              "      <td>42016.0</td>\n",
              "      <td>0.0</td>\n",
              "      <td>0.0</td>\n",
              "      <td>1</td>\n",
              "      <td>V0</td>\n",
              "      <td>0</td>\n",
              "      <td>2018-09-21</td>\n",
              "    </tr>\n",
              "  </tbody>\n",
              "</table>\n",
              "<p>5 rows × 21 columns</p>\n",
              "</div>"
            ],
            "text/plain": [
              "      BOROUGH NEIGHBORHOOD     BUILDING CLASS CATEGORY TAX CLASS AT PRESENT  \\\n",
              "8381        5      WOODROW  05 TAX CLASS 1 VACANT LAND                   1B   \n",
              "8382        5      WOODROW  05 TAX CLASS 1 VACANT LAND                    1   \n",
              "8383        5      WOODROW  05 TAX CLASS 1 VACANT LAND                    1   \n",
              "8384        5      WOODROW  05 TAX CLASS 1 VACANT LAND                    1   \n",
              "8385        5      WOODROW  05 TAX CLASS 1 VACANT LAND                   1B   \n",
              "\n",
              "      BLOCK  LOT EASE-MENT BUILDING CLASS AT PRESENT            ADDRESS  \\\n",
              "8381   7094   61       NaN                        V0  23 WILTSHIRE LANE   \n",
              "8382   7267  289       NaN                        A5      41 JADE COURT   \n",
              "8383   7267  298       NaN                        A5      11 JADE COURT   \n",
              "8384   7267  299       NaN                        A5       9 JADE COURT   \n",
              "8385   7346    1       NaN                        V0      GAYNOR STREET   \n",
              "\n",
              "     APARTMENT NUMBER  ...  RESIDENTIAL UNITS  COMMERCIAL UNITS  TOTAL UNITS  \\\n",
              "8381              NaN  ...                0.0               0.0          0.0   \n",
              "8382              NaN  ...                1.0               0.0          1.0   \n",
              "8383              NaN  ...                1.0               0.0          1.0   \n",
              "8384              NaN  ...                1.0               0.0          1.0   \n",
              "8385              NaN  ...                0.0               0.0          0.0   \n",
              "\n",
              "      LAND SQUARE FEET  GROSS SQUARE FEET  YEAR BUILT  \\\n",
              "8381            4427.0                0.0      2018.0   \n",
              "8382            2955.0             2612.0      2018.0   \n",
              "8383            4108.0             2612.0      2018.0   \n",
              "8384           11019.0             2612.0      2018.0   \n",
              "8385           42016.0                0.0         0.0   \n",
              "\n",
              "      TAX CLASS AT TIME OF SALE  BUILDING CLASS AT TIME OF SALE SALE PRICE  \\\n",
              "8381                          1                              V0     793216   \n",
              "8382                          1                              V0     671026   \n",
              "8383                          1                              V0     610950   \n",
              "8384                          1                              V0     672043   \n",
              "8385                          1                              V0          0   \n",
              "\n",
              "      SALE DATE  \n",
              "8381 2018-05-25  \n",
              "8382 2018-10-04  \n",
              "8383 2018-07-23  \n",
              "8384 2018-08-07  \n",
              "8385 2018-09-21  \n",
              "\n",
              "[5 rows x 21 columns]"
            ]
          },
          "metadata": {
            "tags": []
          },
          "execution_count": 113
        }
      ]
    },
    {
      "cell_type": "markdown",
      "metadata": {
        "id": "P6C2H8ADDY9J",
        "colab_type": "text"
      },
      "source": [
        "# 2. Data Cleaning\n",
        "\n",
        "---\n",
        "\n",
        "We found two problems:\n",
        "\n",
        " 1. we see that the dataframe has 170407 entries, but TAX CLASS AT PRESENT, EASE-MENT, BUILDING CLASS AT PRESENT, APARTMENT NUMBER, ZIP CODE, RESIDENTIAL UNITS, COMMERCIAL UNITS, TOTAL UNITS, LAND SQUARE FEET, GROSS SQUARE FEET and YEAR BUILT has less entries.\n",
        " \n",
        " 2. The BROUGH is represented as numerical values rather than categorical.\n",
        " \n",
        " 3. There are some data does not make sense, such as ZIP CODE, GROSS SQUARE FEET, YEAR BUILT and SALE PRICE can not be 0.\n",
        "\n",
        "\n",
        "---\n",
        "\n",
        "\n",
        " What we are going to do next:\n",
        " \n",
        " 1. rename BOROUGH values to actual borough name.\n",
        " \n",
        " 2. drop columns that we are not going to use.\n",
        " \n",
        " 3. remove raws with null or 0  ZIP CODE, SALE PRICE, GROSS SQUARE FEET, LAND SQUARE FEET and YEAR BUILT.\n",
        " \n",
        " 4. standard data clean process to clean duplicate raws,  raws with Nah value.\n",
        "\n",
        "---\n",
        "\n"
      ]
    },
    {
      "cell_type": "code",
      "metadata": {
        "id": "nok6pDvUROJx",
        "colab_type": "code",
        "colab": {}
      },
      "source": [
        "df['BOROUGH'] = df['BOROUGH'].replace({1: 'Manhattan', 2: 'Bronx', 3: 'Brooklyn', 4: 'Queens', 5: 'Staten Island'})"
      ],
      "execution_count": 0,
      "outputs": []
    },
    {
      "cell_type": "code",
      "metadata": {
        "id": "Zv5hKPDpUar3",
        "colab_type": "code",
        "colab": {}
      },
      "source": [
        "df = df.drop(['BUILDING CLASS CATEGORY', 'TAX CLASS AT PRESENT', 'EASE-MENT', 'BUILDING CLASS AT PRESENT', 'ADDRESS',\n",
        "         'APARTMENT NUMBER', 'BUILDING CLASS AT TIME OF SALE' ], axis=1)"
      ],
      "execution_count": 0,
      "outputs": []
    },
    {
      "cell_type": "code",
      "metadata": {
        "id": "dtK1UiKgnJxR",
        "colab_type": "code",
        "colab": {}
      },
      "source": [
        "df = df[df['SALE PRICE'] != 0]\n",
        "df = df[df['GROSS SQUARE FEET'] != 0]\n",
        "df = df[df['LAND SQUARE FEET'] != 0]\n",
        "df = df[df['YEAR BUILT'] != 0]\n",
        "df = df[df['ZIP CODE'] != 0]"
      ],
      "execution_count": 0,
      "outputs": []
    },
    {
      "cell_type": "code",
      "metadata": {
        "id": "UHnIE8gK6K1s",
        "colab_type": "code",
        "colab": {}
      },
      "source": [
        "df = df.drop_duplicates(keep='last')\n",
        "df = df.dropna()"
      ],
      "execution_count": 0,
      "outputs": []
    },
    {
      "cell_type": "code",
      "metadata": {
        "id": "7NYd6p-vcUD6",
        "colab_type": "code",
        "outputId": "ea847786-6464-4d30-d045-fe7633eed80e",
        "colab": {
          "base_uri": "https://localhost:8080/",
          "height": 340
        }
      },
      "source": [
        "df = df.astype({\"ZIP CODE\": int})\n",
        "df.info()"
      ],
      "execution_count": 118,
      "outputs": [
        {
          "output_type": "stream",
          "text": [
            "<class 'pandas.core.frame.DataFrame'>\n",
            "Int64Index: 64142 entries, 1 to 8384\n",
            "Data columns (total 14 columns):\n",
            "BOROUGH                      64142 non-null object\n",
            "NEIGHBORHOOD                 64142 non-null object\n",
            "BLOCK                        64142 non-null int64\n",
            "LOT                          64142 non-null int64\n",
            "ZIP CODE                     64142 non-null int64\n",
            "RESIDENTIAL UNITS            64142 non-null float64\n",
            "COMMERCIAL UNITS             64142 non-null float64\n",
            "TOTAL UNITS                  64142 non-null float64\n",
            "LAND SQUARE FEET             64142 non-null float64\n",
            "GROSS SQUARE FEET            64142 non-null float64\n",
            "YEAR BUILT                   64142 non-null float64\n",
            "TAX CLASS AT TIME OF SALE    64142 non-null int64\n",
            "SALE PRICE                   64142 non-null int64\n",
            "SALE DATE                    64142 non-null datetime64[ns]\n",
            "dtypes: datetime64[ns](1), float64(6), int64(5), object(2)\n",
            "memory usage: 7.3+ MB\n"
          ],
          "name": "stdout"
        }
      ]
    },
    {
      "cell_type": "markdown",
      "metadata": {
        "id": "0B_2BPbfpOg6",
        "colab_type": "text"
      },
      "source": [
        "## 2.1 Outlier\n",
        "We also want to look at the distribution of our SALE PRICE.\n",
        "\n",
        "1. We noticed that there are some extremely expensive house located in Manhattan, we would like to look at it and decide whether include them in our project or not.\n",
        "\n",
        "2. The documentation of this data set explained there will be $0 sales price which means that there was a transfer of ownership without a cash consideration. However, there are some other values indicate there was a transfer of ownership which is not in the consideration of our project."
      ]
    },
    {
      "cell_type": "code",
      "metadata": {
        "id": "KQYkAISY582m",
        "colab_type": "code",
        "outputId": "a727da9d-e678-417a-e157-e78ce77658f4",
        "colab": {
          "base_uri": "https://localhost:8080/",
          "height": 204
        }
      },
      "source": [
        "df['SALE PRICE'].value_counts(dropna=False).head(10)"
      ],
      "execution_count": 119,
      "outputs": [
        {
          "output_type": "execute_result",
          "data": {
            "text/plain": [
              "10        1267\n",
              "600000     643\n",
              "550000     610\n",
              "650000     608\n",
              "700000     591\n",
              "800000     568\n",
              "450000     561\n",
              "750000     540\n",
              "400000     535\n",
              "500000     528\n",
              "Name: SALE PRICE, dtype: int64"
            ]
          },
          "metadata": {
            "tags": []
          },
          "execution_count": 119
        }
      ]
    },
    {
      "cell_type": "code",
      "metadata": {
        "id": "_C4ed_0frPpY",
        "colab_type": "code",
        "outputId": "37408e55-09bc-46d1-f061-22e047619187",
        "colab": {
          "base_uri": "https://localhost:8080/",
          "height": 563
        }
      },
      "source": [
        "df.nlargest(10, 'SALE PRICE')"
      ],
      "execution_count": 120,
      "outputs": [
        {
          "output_type": "execute_result",
          "data": {
            "text/html": [
              "<div>\n",
              "<style scoped>\n",
              "    .dataframe tbody tr th:only-of-type {\n",
              "        vertical-align: middle;\n",
              "    }\n",
              "\n",
              "    .dataframe tbody tr th {\n",
              "        vertical-align: top;\n",
              "    }\n",
              "\n",
              "    .dataframe thead th {\n",
              "        text-align: right;\n",
              "    }\n",
              "</style>\n",
              "<table border=\"1\" class=\"dataframe\">\n",
              "  <thead>\n",
              "    <tr style=\"text-align: right;\">\n",
              "      <th></th>\n",
              "      <th>BOROUGH</th>\n",
              "      <th>NEIGHBORHOOD</th>\n",
              "      <th>BLOCK</th>\n",
              "      <th>LOT</th>\n",
              "      <th>ZIP CODE</th>\n",
              "      <th>RESIDENTIAL UNITS</th>\n",
              "      <th>COMMERCIAL UNITS</th>\n",
              "      <th>TOTAL UNITS</th>\n",
              "      <th>LAND SQUARE FEET</th>\n",
              "      <th>GROSS SQUARE FEET</th>\n",
              "      <th>YEAR BUILT</th>\n",
              "      <th>TAX CLASS AT TIME OF SALE</th>\n",
              "      <th>SALE PRICE</th>\n",
              "      <th>SALE DATE</th>\n",
              "    </tr>\n",
              "  </thead>\n",
              "  <tbody>\n",
              "    <tr>\n",
              "      <th>773</th>\n",
              "      <td>Manhattan</td>\n",
              "      <td>CHELSEA</td>\n",
              "      <td>713</td>\n",
              "      <td>1</td>\n",
              "      <td>10011</td>\n",
              "      <td>0.0</td>\n",
              "      <td>167.0</td>\n",
              "      <td>167.0</td>\n",
              "      <td>165200.0</td>\n",
              "      <td>1100533.0</td>\n",
              "      <td>1905.0</td>\n",
              "      <td>4</td>\n",
              "      <td>2397501899</td>\n",
              "      <td>2018-03-20</td>\n",
              "    </tr>\n",
              "    <tr>\n",
              "      <th>7347</th>\n",
              "      <td>Manhattan</td>\n",
              "      <td>MIDTOWN CBD</td>\n",
              "      <td>1301</td>\n",
              "      <td>1</td>\n",
              "      <td>10167</td>\n",
              "      <td>0.0</td>\n",
              "      <td>35.0</td>\n",
              "      <td>35.0</td>\n",
              "      <td>81336.0</td>\n",
              "      <td>1586886.0</td>\n",
              "      <td>1966.0</td>\n",
              "      <td>4</td>\n",
              "      <td>2210000000</td>\n",
              "      <td>2017-05-05</td>\n",
              "    </tr>\n",
              "    <tr>\n",
              "      <th>2572</th>\n",
              "      <td>Manhattan</td>\n",
              "      <td>FINANCIAL</td>\n",
              "      <td>40</td>\n",
              "      <td>3</td>\n",
              "      <td>10005</td>\n",
              "      <td>0.0</td>\n",
              "      <td>1.0</td>\n",
              "      <td>1.0</td>\n",
              "      <td>53632.0</td>\n",
              "      <td>1617206.0</td>\n",
              "      <td>1987.0</td>\n",
              "      <td>4</td>\n",
              "      <td>1040000000</td>\n",
              "      <td>2017-01-24</td>\n",
              "    </tr>\n",
              "    <tr>\n",
              "      <th>14970</th>\n",
              "      <td>Manhattan</td>\n",
              "      <td>UPPER WEST SIDE (59-79)</td>\n",
              "      <td>1119</td>\n",
              "      <td>61</td>\n",
              "      <td>10023</td>\n",
              "      <td>0.0</td>\n",
              "      <td>1.0</td>\n",
              "      <td>1.0</td>\n",
              "      <td>15059.0</td>\n",
              "      <td>99769.0</td>\n",
              "      <td>1978.0</td>\n",
              "      <td>4</td>\n",
              "      <td>980000000</td>\n",
              "      <td>2018-06-15</td>\n",
              "    </tr>\n",
              "    <tr>\n",
              "      <th>771</th>\n",
              "      <td>Manhattan</td>\n",
              "      <td>CHELSEA</td>\n",
              "      <td>673</td>\n",
              "      <td>1</td>\n",
              "      <td>10001</td>\n",
              "      <td>0.0</td>\n",
              "      <td>42.0</td>\n",
              "      <td>42.0</td>\n",
              "      <td>136000.0</td>\n",
              "      <td>1129200.0</td>\n",
              "      <td>1912.0</td>\n",
              "      <td>4</td>\n",
              "      <td>880000000</td>\n",
              "      <td>2018-10-23</td>\n",
              "    </tr>\n",
              "    <tr>\n",
              "      <th>20902</th>\n",
              "      <td>Brooklyn</td>\n",
              "      <td>SPRING CREEK</td>\n",
              "      <td>4435</td>\n",
              "      <td>1</td>\n",
              "      <td>11239</td>\n",
              "      <td>1092.0</td>\n",
              "      <td>0.0</td>\n",
              "      <td>1092.0</td>\n",
              "      <td>358496.0</td>\n",
              "      <td>997720.0</td>\n",
              "      <td>1971.0</td>\n",
              "      <td>2</td>\n",
              "      <td>869612895</td>\n",
              "      <td>2018-05-04</td>\n",
              "    </tr>\n",
              "    <tr>\n",
              "      <th>1755</th>\n",
              "      <td>Manhattan</td>\n",
              "      <td>FASHION</td>\n",
              "      <td>840</td>\n",
              "      <td>42</td>\n",
              "      <td>10018</td>\n",
              "      <td>0.0</td>\n",
              "      <td>4.0</td>\n",
              "      <td>4.0</td>\n",
              "      <td>51271.0</td>\n",
              "      <td>697029.0</td>\n",
              "      <td>1920.0</td>\n",
              "      <td>4</td>\n",
              "      <td>850000000</td>\n",
              "      <td>2019-02-08</td>\n",
              "    </tr>\n",
              "    <tr>\n",
              "      <th>8602</th>\n",
              "      <td>Manhattan</td>\n",
              "      <td>MIDTOWN WEST</td>\n",
              "      <td>1000</td>\n",
              "      <td>1</td>\n",
              "      <td>10036</td>\n",
              "      <td>0.0</td>\n",
              "      <td>4.0</td>\n",
              "      <td>4.0</td>\n",
              "      <td>16066.0</td>\n",
              "      <td>369864.0</td>\n",
              "      <td>1909.0</td>\n",
              "      <td>4</td>\n",
              "      <td>719099999</td>\n",
              "      <td>2018-04-27</td>\n",
              "    </tr>\n",
              "    <tr>\n",
              "      <th>6795</th>\n",
              "      <td>Manhattan</td>\n",
              "      <td>MIDTOWN CBD</td>\n",
              "      <td>1298</td>\n",
              "      <td>23</td>\n",
              "      <td>10017</td>\n",
              "      <td>0.0</td>\n",
              "      <td>42.0</td>\n",
              "      <td>42.0</td>\n",
              "      <td>35145.0</td>\n",
              "      <td>627691.0</td>\n",
              "      <td>1987.0</td>\n",
              "      <td>4</td>\n",
              "      <td>701000000</td>\n",
              "      <td>2018-10-30</td>\n",
              "    </tr>\n",
              "    <tr>\n",
              "      <th>2570</th>\n",
              "      <td>Manhattan</td>\n",
              "      <td>FINANCIAL</td>\n",
              "      <td>29</td>\n",
              "      <td>1</td>\n",
              "      <td>10004</td>\n",
              "      <td>0.0</td>\n",
              "      <td>1.0</td>\n",
              "      <td>1.0</td>\n",
              "      <td>42762.0</td>\n",
              "      <td>993569.0</td>\n",
              "      <td>1983.0</td>\n",
              "      <td>4</td>\n",
              "      <td>652000000</td>\n",
              "      <td>2017-05-24</td>\n",
              "    </tr>\n",
              "  </tbody>\n",
              "</table>\n",
              "</div>"
            ],
            "text/plain": [
              "         BOROUGH             NEIGHBORHOOD  BLOCK  LOT  ZIP CODE  \\\n",
              "773    Manhattan                  CHELSEA    713    1     10011   \n",
              "7347   Manhattan              MIDTOWN CBD   1301    1     10167   \n",
              "2572   Manhattan                FINANCIAL     40    3     10005   \n",
              "14970  Manhattan  UPPER WEST SIDE (59-79)   1119   61     10023   \n",
              "771    Manhattan                  CHELSEA    673    1     10001   \n",
              "20902   Brooklyn             SPRING CREEK   4435    1     11239   \n",
              "1755   Manhattan                  FASHION    840   42     10018   \n",
              "8602   Manhattan             MIDTOWN WEST   1000    1     10036   \n",
              "6795   Manhattan              MIDTOWN CBD   1298   23     10017   \n",
              "2570   Manhattan                FINANCIAL     29    1     10004   \n",
              "\n",
              "       RESIDENTIAL UNITS  COMMERCIAL UNITS  TOTAL UNITS  LAND SQUARE FEET  \\\n",
              "773                  0.0             167.0        167.0          165200.0   \n",
              "7347                 0.0              35.0         35.0           81336.0   \n",
              "2572                 0.0               1.0          1.0           53632.0   \n",
              "14970                0.0               1.0          1.0           15059.0   \n",
              "771                  0.0              42.0         42.0          136000.0   \n",
              "20902             1092.0               0.0       1092.0          358496.0   \n",
              "1755                 0.0               4.0          4.0           51271.0   \n",
              "8602                 0.0               4.0          4.0           16066.0   \n",
              "6795                 0.0              42.0         42.0           35145.0   \n",
              "2570                 0.0               1.0          1.0           42762.0   \n",
              "\n",
              "       GROSS SQUARE FEET  YEAR BUILT  TAX CLASS AT TIME OF SALE  SALE PRICE  \\\n",
              "773            1100533.0      1905.0                          4  2397501899   \n",
              "7347           1586886.0      1966.0                          4  2210000000   \n",
              "2572           1617206.0      1987.0                          4  1040000000   \n",
              "14970            99769.0      1978.0                          4   980000000   \n",
              "771            1129200.0      1912.0                          4   880000000   \n",
              "20902           997720.0      1971.0                          2   869612895   \n",
              "1755            697029.0      1920.0                          4   850000000   \n",
              "8602            369864.0      1909.0                          4   719099999   \n",
              "6795            627691.0      1987.0                          4   701000000   \n",
              "2570            993569.0      1983.0                          4   652000000   \n",
              "\n",
              "       SALE DATE  \n",
              "773   2018-03-20  \n",
              "7347  2017-05-05  \n",
              "2572  2017-01-24  \n",
              "14970 2018-06-15  \n",
              "771   2018-10-23  \n",
              "20902 2018-05-04  \n",
              "1755  2019-02-08  \n",
              "8602  2018-04-27  \n",
              "6795  2018-10-30  \n",
              "2570  2017-05-24  "
            ]
          },
          "metadata": {
            "tags": []
          },
          "execution_count": 120
        }
      ]
    },
    {
      "cell_type": "code",
      "metadata": {
        "id": "vHCR2qUqy4LP",
        "colab_type": "code",
        "outputId": "2aae2d86-54db-4fa0-943c-92cc7b9293dd",
        "colab": {
          "base_uri": "https://localhost:8080/",
          "height": 221
        }
      },
      "source": [
        "lst = df['SALE PRICE'].unique().tolist()\n",
        "lst = np.sort(lst, axis = None)\n",
        "lst[:100]"
      ],
      "execution_count": 121,
      "outputs": [
        {
          "output_type": "execute_result",
          "data": {
            "text/plain": [
              "array([    1,     2,     3,     4,     5,     6,    10,    15,    20,\n",
              "          60,   100,   125,   200,   210,   396,   416,   500,   700,\n",
              "         825,  1000,  1006,  1041,  1162,  1500,  1787,  1800,  1895,\n",
              "        2000,  2352,  2416,  2500,  2567,  3000,  3317,  3500,  3582,\n",
              "        3750,  3774,  3900,  3937,  4000,  4500,  4700,  4800,  4900,\n",
              "        4997,  5000,  5041,  5100,  5200,  5300,  5500,  5700,  5750,\n",
              "        6000,  6081,  6250,  6270,  6300,  6400,  6438,  6500,  6533,\n",
              "        6562,  6650,  7000,  7500,  7923,  7980,  8000,  8250,  8500,\n",
              "        9500,  9686,  9828, 10000, 10001, 10050, 10500, 11000, 11500,\n",
              "       11666, 12000, 12497, 12500, 12678, 12950, 13333, 13864, 13870,\n",
              "       14583, 14915, 15000, 15238, 15387, 15523, 15567, 16000, 16500,\n",
              "       16544])"
            ]
          },
          "metadata": {
            "tags": []
          },
          "execution_count": 121
        }
      ]
    },
    {
      "cell_type": "code",
      "metadata": {
        "id": "gV_jE7HOvyMs",
        "colab_type": "code",
        "outputId": "622f76c5-4dc1-442e-cf67-c030fd49770d",
        "colab": {
          "base_uri": "https://localhost:8080/",
          "height": 301
        }
      },
      "source": [
        "x = np.sort(df['SALE PRICE']/1000000)\n",
        "y = np.arange(1, len(x)+1) / len(x)\n",
        "_ = plt.plot(x, y, marker='.', linestyle='none')\n",
        "_ = plt.title('Sale Peice ECDF')\n",
        "_ = plt.xlabel('Sale Price (Million)')\n",
        "_ = plt.ylabel('ECDF')\n",
        "plt.margins(0.02)\n",
        "plt.show()"
      ],
      "execution_count": 122,
      "outputs": [
        {
          "output_type": "display_data",
          "data": {
            "image/png": "[encoded data removed]",
            "text/plain": [
              "<Figure size 432x288 with 1 Axes>"
            ]
          },
          "metadata": {
            "tags": []
          }
        }
      ]
    },
    {
      "cell_type": "code",
      "metadata": {
        "id": "7_3MLeAbgd-d",
        "colab_type": "code",
        "outputId": "48ec03d4-36ba-4e4a-9150-976e7f452bcc",
        "colab": {
          "base_uri": "https://localhost:8080/",
          "height": 301
        }
      },
      "source": [
        "_ = sns.boxplot(x='BOROUGH', y='SALE PRICE', data=df)\n",
        "_ = plt.title('Box Plot of Sale Price')\n",
        "_ = plt.xlabel('Boroughs')\n",
        "_ = plt.xlabel('percent of sale price')\n",
        "plt.show()"
      ],
      "execution_count": 123,
      "outputs": [
        {
          "output_type": "display_data",
          "data": {
            "image/png": "[encoded data removed]",
            "text/plain": [
              "<Figure size 432x288 with 1 Axes>"
            ]
          },
          "metadata": {
            "tags": []
          }
        }
      ]
    },
    {
      "cell_type": "markdown",
      "metadata": {
        "id": "iCxvXiEo8x30",
        "colab_type": "text"
      },
      "source": [
        "## 2.2 Cut Unreal Price\n",
        "\n",
        "From the above data, we conclude that:\n",
        "\n",
        "1. We think the price of the most expensive buildings is reasonable. The average price for each units is not unacceptable. Hoever, We decided not to keep those data because those value is extremly large and way too far from the mean. We will set a maximum price range for the data.\n",
        "\n",
        "2. There are a lot of extremely low sale price which indicates that there was a transfer of ownership. In order to solve this problem, we decided to set a minimum price range for the data.\n",
        "\n",
        "---\n",
        "\n",
        "We set price range from ten thousands up to three millions. Houses in this price is what we can accept and would like to purchase it."
      ]
    },
    {
      "cell_type": "code",
      "metadata": {
        "id": "9qKwACdH-VOB",
        "colab_type": "code",
        "colab": {}
      },
      "source": [
        "# set max price to be 10000000\n",
        "df = df[(df['SALE PRICE'] < 3000000)]\n",
        "# set min price to be 50000\n",
        "df = df[(df['SALE PRICE'] > 100000)]"
      ],
      "execution_count": 0,
      "outputs": []
    },
    {
      "cell_type": "markdown",
      "metadata": {
        "id": "ZuPq6Ja4-51F",
        "colab_type": "text"
      },
      "source": [
        "# 3. Data Visualization"
      ]
    },
    {
      "cell_type": "code",
      "metadata": {
        "id": "aoKMMErV-_73",
        "colab_type": "code",
        "outputId": "cdb7795c-1ec6-41dd-fc83-a11012db11e6",
        "colab": {
          "base_uri": "https://localhost:8080/",
          "height": 301
        }
      },
      "source": [
        "sns.set()\n",
        "_ = sns.distplot(df['SALE PRICE']/1000000, bins=100)\n",
        "plt.title('Sale Peice Dissribution')\n",
        "plt.xlabel('Sale Price (Million)')\n",
        "plt.ylabel('Frequency')\n",
        "plt.show()"
      ],
      "execution_count": 125,
      "outputs": [
        {
          "output_type": "display_data",
          "data": {
            "image/png": "[encoded data removed]",
            "text/plain": [
              "<Figure size 432x288 with 1 Axes>"
            ]
          },
          "metadata": {
            "tags": []
          }
        }
      ]
    },
    {
      "cell_type": "code",
      "metadata": {
        "id": "4iZtFOEhAJtO",
        "colab_type": "code",
        "outputId": "c64c4c72-ea7c-415d-af9a-0f107c95fcb9",
        "colab": {
          "base_uri": "https://localhost:8080/",
          "height": 301
        }
      },
      "source": [
        "# make Empirical cumulative distribution function (ECDF)\n",
        "x = np.sort(df['SALE PRICE']/1000000)\n",
        "y = np.arange(1, len(x)+1) / len(x)\n",
        "_ = plt.plot(x, y, marker='.', linestyle='none')\n",
        "_ = plt.title('Sale Peice ECDF')\n",
        "_ = plt.xlabel('Sale Price (Million)')\n",
        "_ = plt.ylabel('ECDF')\n",
        "plt.margins(0.02)\n",
        "plt.show()"
      ],
      "execution_count": 126,
      "outputs": [
        {
          "output_type": "display_data",
          "data": {
            "image/png": "[encoded data removed]",
            "text/plain": [
              "<Figure size 432x288 with 1 Axes>"
            ]
          },
          "metadata": {
            "tags": []
          }
        }
      ]
    },
    {
      "cell_type": "markdown",
      "metadata": {
        "id": "atSh6HB1CZbX",
        "colab_type": "text"
      },
      "source": [
        "From above graph, we notice that most of the houses were trading between 0.5 million to 1 moillion. In addition, there is a peak in 1 million which mean house with sale price of 1 million is also very popular.\n",
        "\n",
        "---\n",
        "\n",
        "As we know, the hoursing price are has a huge different in different borough. We plot the two more graph in order to see the how the horsing price realted to borough. We can conclude that:\n",
        "\n",
        "1. Most of the housing prices are below one milion. \n",
        "\n",
        "2. The housing price in Manhattan is the most diverse. However, The Bronx and Staten Island rarely have housing prices for over one milion.\n",
        "\n",
        "3. Ordering by turnover rate, Manhattan >> Brooklyn > Queen > Bronx > Staten Island."
      ]
    },
    {
      "cell_type": "code",
      "metadata": {
        "id": "ADZmqGVi0dUH",
        "colab_type": "code",
        "outputId": "e921b659-f1f0-4726-c9bc-b4ee8f87dfdd",
        "colab": {
          "base_uri": "https://localhost:8080/",
          "height": 301
        }
      },
      "source": [
        "# gets borough list\n",
        "boroughs = df['BOROUGH'].unique().tolist()\n",
        "df_index = df.set_index('BOROUGH', drop=False)\n",
        "\n",
        "# draw ECDFs\n",
        "for borough in boroughs:\n",
        "  x = np.sort(df_index.loc[borough]['SALE PRICE']/1000000)\n",
        "  y = np.arange(1, len(x)+1) / len(x)\n",
        "  _ = plt.plot(x, y, marker='.', linestyle='none')\n",
        "\n",
        "plt.legend(boroughs)\n",
        "_ = plt.title('Individual Sale Peice ECDF')\n",
        "_ = plt.xlabel('Sale Price (Million)')\n",
        "_ = plt.ylabel('ECDF')\n",
        "plt.show()"
      ],
      "execution_count": 127,
      "outputs": [
        {
          "output_type": "display_data",
          "data": {
            "image/png": "[encoded data removed]",
            "text/plain": [
              "<Figure size 432x288 with 1 Axes>"
            ]
          },
          "metadata": {
            "tags": []
          }
        }
      ]
    },
    {
      "cell_type": "code",
      "metadata": {
        "id": "YtNKxVxuhazB",
        "colab_type": "code",
        "outputId": "60fc9fad-efa8-4c71-9111-d51069eda928",
        "colab": {
          "base_uri": "https://localhost:8080/",
          "height": 301
        }
      },
      "source": [
        "# shows the average price in each boroughs\n",
        "_ = sns.boxplot(x='BOROUGH', y='SALE PRICE', data=df)\n",
        "_ = plt.title('Box Plot of Sale Price')\n",
        "_ = plt.xlabel('Boroughs')\n",
        "_ = plt.xlabel('sale price')\n",
        "plt.show()"
      ],
      "execution_count": 128,
      "outputs": [
        {
          "output_type": "display_data",
          "data": {
            "image/png": "[encoded data removed]",
            "text/plain": [
              "<Figure size 432x288 with 1 Axes>"
            ]
          },
          "metadata": {
            "tags": []
          }
        }
      ]
    },
    {
      "cell_type": "markdown",
      "metadata": {
        "id": "3Lq9_dzq-uOI",
        "colab_type": "text"
      },
      "source": [
        "# How were the hoursing prices chaged among the five boroughs over the past two years?\n",
        "\n",
        "---\n",
        "\n",
        "Formula for Z score = (Observation — Mean)/Standard Deviation"
      ]
    },
    {
      "cell_type": "code",
      "metadata": {
        "id": "eg1xZOz8-uXY",
        "colab_type": "code",
        "outputId": "b7834234-ab20-43c3-907c-a9f27cc84eb4",
        "colab": {
          "base_uri": "https://localhost:8080/",
          "height": 301
        }
      },
      "source": [
        "# separate data by borough\n",
        "df_Bronx = df_index.loc['Bronx']\n",
        "df_Brooklyn = df_index.loc['Brooklyn']\n",
        "df_Manhattan = df_index.loc['Manhattan']\n",
        "df_Queens = df_index.loc['Queens']\n",
        "df_StatenIsland = df_index.loc['Staten Island']\n",
        "\n",
        "# compute z score of each borough\n",
        "z_Bronx = np.abs(stats.zscore(df_Bronx['SALE PRICE']))\n",
        "z_Brooklyn = np.abs(stats.zscore(df_Brooklyn['SALE PRICE']))\n",
        "z_Manhattan = np.abs(stats.zscore(df_Manhattan['SALE PRICE']))\n",
        "z_Queens = np.abs(stats.zscore(df_Queens['SALE PRICE']))\n",
        "z_StatenIsland = np.abs(stats.zscore(df_StatenIsland['SALE PRICE']))\n",
        "\n",
        "# remove outliers\n",
        "threshold = 3\n",
        "\n",
        "df_Bronx = df_Bronx[(z_Bronx < threshold)]\n",
        "df_Brooklyn = df_Brooklyn[(z_Brooklyn < threshold)]\n",
        "df_Manhattan = df_Manhattan[(z_Manhattan < threshold)]\n",
        "df_Queens = df_Queens[(z_Queens < threshold)]\n",
        "df_StatenIsland = df_StatenIsland[(z_StatenIsland < threshold)]\n",
        "\n",
        "# box plot\n",
        "df_no_outlier = pd.DataFrame()\n",
        "\n",
        "df_no_outlier = df_no_outlier.append(df_Bronx, sort=False)\n",
        "df_no_outlier = df_no_outlier.append(df_Brooklyn, sort=False)\n",
        "df_no_outlier = df_no_outlier.append(df_Manhattan, sort=False)\n",
        "df_no_outlier = df_no_outlier.append(df_Queens, sort=False)\n",
        "df_no_outlier = df_no_outlier.append(df_StatenIsland, sort=False)\n",
        "\n",
        "_ = sns.boxplot(x='BOROUGH', y='SALE PRICE', data=df_no_outlier)\n",
        "_ = plt.title('Box Plot of Sale Price')\n",
        "_ = plt.xlabel('Boroughs')\n",
        "_ = plt.xlabel('sale price')\n",
        "plt.show()"
      ],
      "execution_count": 129,
      "outputs": [
        {
          "output_type": "display_data",
          "data": {
            "image/png": "[encoded data removed]",
            "text/plain": [
              "<Figure size 432x288 with 1 Axes>"
            ]
          },
          "metadata": {
            "tags": []
          }
        }
      ]
    },
    {
      "cell_type": "code",
      "metadata": {
        "id": "I2LfCUrStbyG",
        "colab_type": "code",
        "colab": {}
      },
      "source": [
        "def download_json():\n",
        "    '''Downloads GEOJSON from Open Data NYC'''\n",
        "#     url = \"http://data.beta.nyc//dataset/472dda10-79b3-4bfb-9c75-e7bd5332ec0b/resource/d826bbc6-a376-4642-8d8b-3a700d701557/download/88472a1f6fd94fef97b8c06335db60f7nyccommunitydistricts.geojson\"\n",
        "#     url = \"http://services5.arcgis.com/GfwWNkhOj9bNBqoJ/arcgis/rest/services/nycd/FeatureServer/0/query?where=1=1&outFields=*&outSR=4326&f=geojson\"\n",
        "    url = \"http://data.beta.nyc//dataset/3bf5fb73-edb5-4b05-bb29-7c95f4a727fc/resource/6df127b1-6d04-4bb7-b983-07402a2c3f90/download/f4129d9aa6dd4281bc98d0f701629b76nyczipcodetabulationareas.geojson\"\n",
        "    resp = requests.get(url)\n",
        "    return resp.json()\n",
        "\n",
        "def gen_base(geojson):\n",
        "    '''Generates baselayer of NYC GEO map'''\n",
        "    base = alt.Chart(alt.Data(values=geojson)).mark_geoshape(\n",
        "        stroke='black',\n",
        "        strokeWidth=1\n",
        "    ).encode(\n",
        "    ).properties(\n",
        "        width=500,\n",
        "        height=500\n",
        "    )\n",
        "    return base\n",
        "\n",
        "anc_json = download_json()\n",
        "base_layer = gen_base(geojson=anc_json)"
      ],
      "execution_count": 0,
      "outputs": []
    },
    {
      "cell_type": "code",
      "metadata": {
        "id": "ptCDLHfMGJDO",
        "colab_type": "code",
        "outputId": "e59bf52d-8c62-42f4-eac5-321a63da8be8",
        "colab": {
          "base_uri": "https://localhost:8080/",
          "height": 306
        }
      },
      "source": [
        "gdf = gpd.GeoDataFrame.from_features((anc_json))\n",
        "gdf = gdf.astype({\"postalCode\": int})\n",
        "gdf.info()\n",
        "# gdf.loc[gdf.postalCode==10047]\n",
        "# np.sort(gdf.postalCode, axis = None)\n",
        "# gdf"
      ],
      "execution_count": 131,
      "outputs": [
        {
          "output_type": "stream",
          "text": [
            "<class 'pandas.core.frame.DataFrame'>\n",
            "RangeIndex: 262 entries, 0 to 261\n",
            "Data columns (total 12 columns):\n",
            "@id           262 non-null object\n",
            "BLDGpostal    262 non-null int64\n",
            "CTY_FIPS      262 non-null object\n",
            "OBJECTID      262 non-null int64\n",
            "PO_NAME       262 non-null object\n",
            "STATE         262 non-null object\n",
            "ST_FIPS       262 non-null object\n",
            "borough       262 non-null object\n",
            "geometry      262 non-null object\n",
            "latitude      262 non-null float64\n",
            "longitude     262 non-null float64\n",
            "postalCode    262 non-null int64\n",
            "dtypes: float64(2), int64(3), object(7)\n",
            "memory usage: 24.6+ KB\n"
          ],
          "name": "stdout"
        }
      ]
    },
    {
      "cell_type": "code",
      "metadata": {
        "id": "pTuT08HkrGPT",
        "colab_type": "code",
        "colab": {}
      },
      "source": [
        "# ZIP Code Definitions of New York City Neighborhoods\n",
        "# Bronx \n",
        "Central_Bronx = [10453, 10457, 10460]\n",
        "Bronx_Park_Fordham = [10458, 10467, 10468]\n",
        "High_Bridge_Morrisania = [10451, 10452, 10456]\n",
        "Hunts_Point_Mott_Haven = [10454, 10455, 10459, 10474]\n",
        "Kingsbridge_Riverdale = [10463, 10471]\n",
        "Northeast_Bronx = [10466, 10469, 10470, 10475]\n",
        "Southeast_Bronx = [10461, 10462,10464, 10465, 10472, 10473]\n",
        "\n",
        "# Brooklyn\n",
        "Central_Brooklyn = [11212, 11213, 11216, 11233, 11238]\n",
        "Southwest_Brooklyn = [11209, 11214, 11228]\n",
        "Borough_Park = [11204, 11218, 11219, 11230]\n",
        "Canarsie_Flatlands = [11234, 11236, 11239]\n",
        "Southern_Brooklyn = [11223, 11224, 11229, 11235]\n",
        "Northwest_Brooklyn = [11201, 11205, 11215, 11217, 11231]\n",
        "Flatbush = [11203, 11210, 11225, 11226]\n",
        "EastNY_New_Lots = [11207, 11208]\n",
        "Greenpoint = [11211, 11222]\n",
        "Sunset_Park = [11220, 11232]\n",
        "Bushwick_Williamsburg = [11206, 11221, 11237]\n",
        "\n",
        "# Manhattan\n",
        "Central_Harlem = [10026, 10027, 10030, 10037, 10039]\n",
        "Chelsea_Clinton =\t[10001, 10011, 10018, 10019, 10020, 10036]\n",
        "East_Harlem\t= [10029, 10035]\n",
        "Gramercy_Park_Murray_Hill =\t[10010, 10016, 10017, 10022]\n",
        "Greenwich_Village_Soho = [10012, 10013, 10014]\n",
        "Lower_Manhattan =\t[10004, 10005, 10006, 10007, 10038, 10280]\n",
        "Lower_East = [10002, 10003, 10009]\n",
        "Upper_East = [10021, 10028, 10044, 10065, 10075, 10128]\n",
        "Upper_West = [10023, 10024, 10025]\n",
        "Inwood_Washington_Heights =\t[10031, 10032, 10033, 10034, 10040]\n",
        "\n",
        "# Queens\n",
        "Northeast_Queens = [11361, 11362, 11363, 11364]\n",
        "North_Queens = [11354, 11355, 11356, 11357, 11358, 11359, 11360]\n",
        "Central_Queens = [11365, 11366, 11367]\n",
        "Jamaica\t= [11412, 11423, 11432, 11433, 11434, 11435, 11436]\n",
        "Northwest_Queens = [11101, 11102, 11103, 11104, 11105, 11106]\n",
        "West_Central_Queens = [11374, 11375, 11379, 11385]\n",
        "Rockaways = [11691, 11692, 11693, 11694, 11695, 11697]\n",
        "Southeast_Queens = [11004, 11005, 11411, 11413, 11422, 11426, 11427, 11428, 11429]\n",
        "Southwest_Queens = [11414, 11415, 11416, 11417, 11418, 11419, 11420, 11421]\n",
        "West_Queens = [11368, 11369, 11370, 11372, 11373, 11377, 11378]\n",
        "\n",
        "# Staten Island\n",
        "Port_Richmond =\t[10302, 10303, 10310]\n",
        "South_Shore = [10306, 10307, 10308, 10309, 10312]\n",
        "Stapleton_StGeorge = [10301, 10304, 10305]\n",
        "Mid_Island = [10314]"
      ],
      "execution_count": 0,
      "outputs": []
    },
    {
      "cell_type": "code",
      "metadata": {
        "id": "qENbz-56DfVI",
        "colab_type": "code",
        "colab": {}
      },
      "source": [
        "# Bronx\n",
        "BX1 = df_no_outlier.loc[df_no_outlier['ZIP CODE'].isin(Central_Bronx)]\n",
        "BX2 = df_no_outlier.loc[df_no_outlier['ZIP CODE'].isin(Bronx_Park_Fordham)]\n",
        "BX3 = df_no_outlier.loc[df_no_outlier['ZIP CODE'].isin(High_Bridge_Morrisania)]\n",
        "BX4 = df_no_outlier.loc[df_no_outlier['ZIP CODE'].isin(Hunts_Point_Mott_Haven)]\n",
        "BX5 = df_no_outlier.loc[df_no_outlier['ZIP CODE'].isin(Kingsbridge_Riverdale)]\n",
        "BX6 = df_no_outlier.loc[df_no_outlier['ZIP CODE'].isin(Northeast_Bronx)]\n",
        "BX7 = df_no_outlier.loc[df_no_outlier['ZIP CODE'].isin(Southeast_Bronx)]\n",
        "\n",
        "# Brooklyn\n",
        "BK1 = df_no_outlier.loc[df_no_outlier['ZIP CODE'].isin(Central_Brooklyn)]\n",
        "BK2 = df_no_outlier.loc[df_no_outlier['ZIP CODE'].isin(Southwest_Brooklyn)]\n",
        "BK3 = df_no_outlier.loc[df_no_outlier['ZIP CODE'].isin(Borough_Park)]\n",
        "BK4 = df_no_outlier.loc[df_no_outlier['ZIP CODE'].isin(Canarsie_Flatlands)]\n",
        "BK5 = df_no_outlier.loc[df_no_outlier['ZIP CODE'].isin(Southern_Brooklyn)]\n",
        "BK6 = df_no_outlier.loc[df_no_outlier['ZIP CODE'].isin(Northwest_Brooklyn)]\n",
        "BK7 = df_no_outlier.loc[df_no_outlier['ZIP CODE'].isin(Flatbush)]\n",
        "BK8 = df_no_outlier.loc[df_no_outlier['ZIP CODE'].isin(EastNY_New_Lots)]\n",
        "BK9 = df_no_outlier.loc[df_no_outlier['ZIP CODE'].isin(Greenpoint)]\n",
        "BK10 = df_no_outlier.loc[df_no_outlier['ZIP CODE'].isin(Sunset_Park)]\n",
        "BK11 = df_no_outlier.loc[df_no_outlier['ZIP CODE'].isin(Bushwick_Williamsburg)]\n",
        "\n",
        "# Manhattan\n",
        "MN1 = df_no_outlier.loc[df_no_outlier['ZIP CODE'].isin(Central_Harlem)]\n",
        "MN2 = df_no_outlier.loc[df_no_outlier['ZIP CODE'].isin(Chelsea_Clinton)]\n",
        "MN3 = df_no_outlier.loc[df_no_outlier['ZIP CODE'].isin(East_Harlem)]\n",
        "MN4 = df_no_outlier.loc[df_no_outlier['ZIP CODE'].isin(Gramercy_Park_Murray_Hill)]\n",
        "MN5 = df_no_outlier.loc[df_no_outlier['ZIP CODE'].isin(Greenwich_Village_Soho)]\n",
        "MN6 = df_no_outlier.loc[df_no_outlier['ZIP CODE'].isin(Lower_Manhattan)]\n",
        "MN7 = df_no_outlier.loc[df_no_outlier['ZIP CODE'].isin(Lower_East)]\n",
        "MN8 = df_no_outlier.loc[df_no_outlier['ZIP CODE'].isin(Upper_East)]\n",
        "MN9 = df_no_outlier.loc[df_no_outlier['ZIP CODE'].isin(Upper_West)]\n",
        "MN10 = df_no_outlier.loc[df_no_outlier['ZIP CODE'].isin(Inwood_Washington_Heights)]\n",
        "\n",
        "# Queens\n",
        "QU1 = df_no_outlier.loc[df_no_outlier['ZIP CODE'].isin(Northeast_Queens)]\n",
        "QU2 = df_no_outlier.loc[df_no_outlier['ZIP CODE'].isin(North_Queens)]\n",
        "QU3 = df_no_outlier.loc[df_no_outlier['ZIP CODE'].isin(Central_Queens)]\n",
        "QU4 = df_no_outlier.loc[df_no_outlier['ZIP CODE'].isin(Jamaica)]\n",
        "QU5 = df_no_outlier.loc[df_no_outlier['ZIP CODE'].isin(Northwest_Queens)]\n",
        "QU6 = df_no_outlier.loc[df_no_outlier['ZIP CODE'].isin(West_Central_Queens)]\n",
        "QU7 = df_no_outlier.loc[df_no_outlier['ZIP CODE'].isin(Rockaways)]\n",
        "QU8 = df_no_outlier.loc[df_no_outlier['ZIP CODE'].isin(Southeast_Queens)]\n",
        "QU9 = df_no_outlier.loc[df_no_outlier['ZIP CODE'].isin(Southwest_Queens)]\n",
        "QU10 = df_no_outlier.loc[df_no_outlier['ZIP CODE'].isin(West_Queens)]\n",
        "\n",
        "# Staten Island\n",
        "SI1 = df_no_outlier.loc[df_no_outlier['ZIP CODE'].isin(Port_Richmond)]\n",
        "SI2 = df_no_outlier.loc[df_no_outlier['ZIP CODE'].isin(South_Shore)]\n",
        "SI3 = df_no_outlier.loc[df_no_outlier['ZIP CODE'].isin(Stapleton_StGeorge)]\n",
        "SI4 = df_no_outlier.loc[df_no_outlier['ZIP CODE'].isin(Mid_Island)]"
      ],
      "execution_count": 0,
      "outputs": []
    },
    {
      "cell_type": "code",
      "metadata": {
        "id": "2dUuAvNLwB3g",
        "colab_type": "code",
        "colab": {}
      },
      "source": [
        "turn_over_rate = []\n",
        "for zip_code in gdf.postalCode:\n",
        "# Bronx\n",
        "  if zip_code in Central_Bronx:\n",
        "    turn_over_rate.append(len(BX1))\n",
        "  elif zip_code in Bronx_Park_Fordham:\n",
        "    turn_over_rate.append(len(BX2))\n",
        "  elif zip_code in High_Bridge_Morrisania:\n",
        "    turn_over_rate.append(len(BX3))\n",
        "  elif zip_code in Hunts_Point_Mott_Haven: \n",
        "    turn_over_rate.append(len(BX4))\n",
        "  elif zip_code in Kingsbridge_Riverdale:\n",
        "    turn_over_rate.append(len(BX5))\n",
        "  elif zip_code in Northeast_Bronx:\n",
        "    turn_over_rate.append(len(BX6))\n",
        "  elif zip_code in Southeast_Bronx:\n",
        "    turn_over_rate.append(len(BX7))\n",
        "# Brooklyn\n",
        "  elif zip_code in Central_Brooklyn:\n",
        "    turn_over_rate.append(len(BK1))\n",
        "  elif zip_code in Southwest_Brooklyn:\n",
        "    turn_over_rate.append(len(BK2))\n",
        "  elif zip_code in Borough_Park:\n",
        "    turn_over_rate.append(len(BK3))\n",
        "  elif zip_code in Canarsie_Flatlands:\n",
        "    turn_over_rate.append(len(BK4))\n",
        "  elif zip_code in Southern_Brooklyn:\n",
        "    turn_over_rate.append(len(BK5))\n",
        "  elif zip_code in Northwest_Brooklyn:\n",
        "    turn_over_rate.append(len(BK6))\n",
        "  elif zip_code in Flatbush:\n",
        "    turn_over_rate.append(len(BK7))\n",
        "  elif zip_code in EastNY_New_Lots:\n",
        "    turn_over_rate.append(len(BK8))\n",
        "  elif zip_code in Greenpoint:\n",
        "    turn_over_rate.append(len(BK9))\n",
        "  elif zip_code in Sunset_Park:\n",
        "    turn_over_rate.append(len(BK10))\n",
        "  elif zip_code in Bushwick_Williamsburg:\n",
        "    turn_over_rate.append(len(BK11))\n",
        "# Manhattan\n",
        "  elif zip_code in Central_Harlem:\n",
        "    turn_over_rate.append(len(MN1))\n",
        "  elif zip_code in Chelsea_Clinton:\n",
        "    turn_over_rate.append(len(MN2))\n",
        "  elif zip_code in East_Harlem:\n",
        "    turn_over_rate.append(len(MN3))\n",
        "  elif zip_code in Gramercy_Park_Murray_Hill:\n",
        "    turn_over_rate.append(len(MN4))\n",
        "  elif zip_code in Greenwich_Village_Soho:\n",
        "    turn_over_rate.append(len(MN5))\n",
        "  elif zip_code in Lower_Manhattan:\n",
        "    turn_over_rate.append(len(MN6))\n",
        "  elif zip_code in Lower_East:\n",
        "    turn_over_rate.append(len(MN7))\n",
        "  elif zip_code in Upper_East:\n",
        "    turn_over_rate.append(len(MN8))\n",
        "  elif zip_code in Upper_West:\n",
        "    turn_over_rate.append(len(MN9))\n",
        "  elif zip_code in Inwood_Washington_Heights:\n",
        "    turn_over_rate.append(len(MN10))\n",
        "# Queens\n",
        "  elif zip_code in Northeast_Queens:\n",
        "    turn_over_rate.append(len(QU1))\n",
        "  elif zip_code in North_Queens:\n",
        "    turn_over_rate.append(len(QU2))\n",
        "  elif zip_code in Central_Queens:\n",
        "    turn_over_rate.append(len(QU3))\n",
        "  elif zip_code in Jamaica:\n",
        "    turn_over_rate.append(len(QU4))\n",
        "  elif zip_code in Northwest_Queens:\n",
        "    turn_over_rate.append(len(QU5))\n",
        "  elif zip_code in West_Central_Queens:\n",
        "    turn_over_rate.append(len(QU6))\n",
        "  elif zip_code in Rockaways:\n",
        "    turn_over_rate.append(len(QU7))\n",
        "  elif zip_code in Southeast_Queens:\n",
        "    turn_over_rate.append(len(QU8))\n",
        "  elif zip_code in Southwest_Queens:\n",
        "    turn_over_rate.append(len(QU9))\n",
        "  elif zip_code in West_Queens:\n",
        "    turn_over_rate.append(len(QU10))\n",
        "# Staten Island\n",
        "  elif zip_code in Port_Richmond:\n",
        "    turn_over_rate.append(len(SI1))\n",
        "  elif zip_code in South_Shore:\n",
        "    turn_over_rate.append(len(SI2))\n",
        "  elif zip_code in Stapleton_StGeorge:\n",
        "    turn_over_rate.append(len(SI3))\n",
        "  elif zip_code in Mid_Island:\n",
        "    turn_over_rate.append(len(SI4))\n",
        "  else:\n",
        "    turn_over_rate.append(0)"
      ],
      "execution_count": 0,
      "outputs": []
    },
    {
      "cell_type": "code",
      "metadata": {
        "id": "lwOY4nJD4quN",
        "colab_type": "code",
        "colab": {
          "base_uri": "https://localhost:8080/",
          "height": 398
        },
        "outputId": "e40fa658-da82-48cc-d9f9-7e83bbd8438f"
      },
      "source": [
        "gdf['Turnover Rate'] = turn_over_rate\n",
        "\n",
        "choro_json = json.loads(gdf.to_json())\n",
        "choro_data = alt.Data(values=choro_json['features'])"
      ],
      "execution_count": 143,
      "outputs": [
        {
          "output_type": "error",
          "ename": "OverflowError",
          "evalue": "ignored",
          "traceback": [
            "\u001b[0;31m---------------------------------------------------------------------------\u001b[0m",
            "\u001b[0;31mOverflowError\u001b[0m                             Traceback (most recent call last)",
            "\u001b[0;32m<ipython-input-143-5bdbee17ebdc>\u001b[0m in \u001b[0;36m<module>\u001b[0;34m()\u001b[0m\n\u001b[1;32m      1\u001b[0m \u001b[0mgdf\u001b[0m\u001b[0;34m[\u001b[0m\u001b[0;34m'Turnover Rate'\u001b[0m\u001b[0;34m]\u001b[0m \u001b[0;34m=\u001b[0m \u001b[0mturn_over_rate\u001b[0m\u001b[0;34m\u001b[0m\u001b[0;34m\u001b[0m\u001b[0m\n\u001b[1;32m      2\u001b[0m \u001b[0;34m\u001b[0m\u001b[0m\n\u001b[0;32m----> 3\u001b[0;31m \u001b[0mchoro_json\u001b[0m \u001b[0;34m=\u001b[0m \u001b[0mjson\u001b[0m\u001b[0;34m.\u001b[0m\u001b[0mloads\u001b[0m\u001b[0;34m(\u001b[0m\u001b[0mgdf\u001b[0m\u001b[0;34m.\u001b[0m\u001b[0mto_json\u001b[0m\u001b[0;34m(\u001b[0m\u001b[0;34m)\u001b[0m\u001b[0;34m)\u001b[0m\u001b[0;34m\u001b[0m\u001b[0;34m\u001b[0m\u001b[0m\n\u001b[0m\u001b[1;32m      4\u001b[0m \u001b[0mchoro_data\u001b[0m \u001b[0;34m=\u001b[0m \u001b[0malt\u001b[0m\u001b[0;34m.\u001b[0m\u001b[0mData\u001b[0m\u001b[0;34m(\u001b[0m\u001b[0mvalues\u001b[0m\u001b[0;34m=\u001b[0m\u001b[0mchoro_json\u001b[0m\u001b[0;34m[\u001b[0m\u001b[0;34m'features'\u001b[0m\u001b[0;34m]\u001b[0m\u001b[0;34m)\u001b[0m\u001b[0;34m\u001b[0m\u001b[0;34m\u001b[0m\u001b[0m\n",
            "\u001b[0;32m/usr/local/lib/python3.6/dist-packages/pandas/core/generic.py\u001b[0m in \u001b[0;36mto_json\u001b[0;34m(self, path_or_buf, orient, date_format, double_precision, force_ascii, date_unit, default_handler, lines, compression, index)\u001b[0m\n\u001b[1;32m   2271\u001b[0m                             \u001b[0mdefault_handler\u001b[0m\u001b[0;34m=\u001b[0m\u001b[0mdefault_handler\u001b[0m\u001b[0;34m,\u001b[0m\u001b[0;34m\u001b[0m\u001b[0;34m\u001b[0m\u001b[0m\n\u001b[1;32m   2272\u001b[0m                             \u001b[0mlines\u001b[0m\u001b[0;34m=\u001b[0m\u001b[0mlines\u001b[0m\u001b[0;34m,\u001b[0m \u001b[0mcompression\u001b[0m\u001b[0;34m=\u001b[0m\u001b[0mcompression\u001b[0m\u001b[0;34m,\u001b[0m\u001b[0;34m\u001b[0m\u001b[0;34m\u001b[0m\u001b[0m\n\u001b[0;32m-> 2273\u001b[0;31m                             index=index)\n\u001b[0m\u001b[1;32m   2274\u001b[0m \u001b[0;34m\u001b[0m\u001b[0m\n\u001b[1;32m   2275\u001b[0m     \u001b[0;32mdef\u001b[0m \u001b[0mto_hdf\u001b[0m\u001b[0;34m(\u001b[0m\u001b[0mself\u001b[0m\u001b[0;34m,\u001b[0m \u001b[0mpath_or_buf\u001b[0m\u001b[0;34m,\u001b[0m \u001b[0mkey\u001b[0m\u001b[0;34m,\u001b[0m \u001b[0;34m**\u001b[0m\u001b[0mkwargs\u001b[0m\u001b[0;34m)\u001b[0m\u001b[0;34m:\u001b[0m\u001b[0;34m\u001b[0m\u001b[0;34m\u001b[0m\u001b[0m\n",
            "\u001b[0;32m/usr/local/lib/python3.6/dist-packages/pandas/io/json/json.py\u001b[0m in \u001b[0;36mto_json\u001b[0;34m(path_or_buf, obj, orient, date_format, double_precision, force_ascii, date_unit, default_handler, lines, compression, index)\u001b[0m\n\u001b[1;32m     60\u001b[0m         \u001b[0mdouble_precision\u001b[0m\u001b[0;34m=\u001b[0m\u001b[0mdouble_precision\u001b[0m\u001b[0;34m,\u001b[0m \u001b[0mensure_ascii\u001b[0m\u001b[0;34m=\u001b[0m\u001b[0mforce_ascii\u001b[0m\u001b[0;34m,\u001b[0m\u001b[0;34m\u001b[0m\u001b[0;34m\u001b[0m\u001b[0m\n\u001b[1;32m     61\u001b[0m         \u001b[0mdate_unit\u001b[0m\u001b[0;34m=\u001b[0m\u001b[0mdate_unit\u001b[0m\u001b[0;34m,\u001b[0m \u001b[0mdefault_handler\u001b[0m\u001b[0;34m=\u001b[0m\u001b[0mdefault_handler\u001b[0m\u001b[0;34m,\u001b[0m\u001b[0;34m\u001b[0m\u001b[0;34m\u001b[0m\u001b[0m\n\u001b[0;32m---> 62\u001b[0;31m         index=index).write()\n\u001b[0m\u001b[1;32m     63\u001b[0m \u001b[0;34m\u001b[0m\u001b[0m\n\u001b[1;32m     64\u001b[0m     \u001b[0;32mif\u001b[0m \u001b[0mlines\u001b[0m\u001b[0;34m:\u001b[0m\u001b[0;34m\u001b[0m\u001b[0;34m\u001b[0m\u001b[0m\n",
            "\u001b[0;32m/usr/local/lib/python3.6/dist-packages/pandas/io/json/json.py\u001b[0m in \u001b[0;36mwrite\u001b[0;34m(self)\u001b[0m\n\u001b[1;32m    102\u001b[0m         return self._write(self.obj, self.orient, self.double_precision,\n\u001b[1;32m    103\u001b[0m                            \u001b[0mself\u001b[0m\u001b[0;34m.\u001b[0m\u001b[0mensure_ascii\u001b[0m\u001b[0;34m,\u001b[0m \u001b[0mself\u001b[0m\u001b[0;34m.\u001b[0m\u001b[0mdate_unit\u001b[0m\u001b[0;34m,\u001b[0m\u001b[0;34m\u001b[0m\u001b[0;34m\u001b[0m\u001b[0m\n\u001b[0;32m--> 104\u001b[0;31m                            self.date_format == 'iso', self.default_handler)\n\u001b[0m\u001b[1;32m    105\u001b[0m \u001b[0;34m\u001b[0m\u001b[0m\n\u001b[1;32m    106\u001b[0m     def _write(self, obj, orient, double_precision, ensure_ascii,\n",
            "\u001b[0;32m/usr/local/lib/python3.6/dist-packages/pandas/io/json/json.py\u001b[0m in \u001b[0;36m_write\u001b[0;34m(self, obj, orient, double_precision, ensure_ascii, date_unit, iso_dates, default_handler)\u001b[0m\n\u001b[1;32m    159\u001b[0m                                                \u001b[0mdouble_precision\u001b[0m\u001b[0;34m,\u001b[0m\u001b[0;34m\u001b[0m\u001b[0;34m\u001b[0m\u001b[0m\n\u001b[1;32m    160\u001b[0m                                                \u001b[0mensure_ascii\u001b[0m\u001b[0;34m,\u001b[0m \u001b[0mdate_unit\u001b[0m\u001b[0;34m,\u001b[0m\u001b[0;34m\u001b[0m\u001b[0;34m\u001b[0m\u001b[0m\n\u001b[0;32m--> 161\u001b[0;31m                                                iso_dates, default_handler)\n\u001b[0m\u001b[1;32m    162\u001b[0m \u001b[0;34m\u001b[0m\u001b[0m\n\u001b[1;32m    163\u001b[0m \u001b[0;34m\u001b[0m\u001b[0m\n",
            "\u001b[0;32m/usr/local/lib/python3.6/dist-packages/pandas/io/json/json.py\u001b[0m in \u001b[0;36m_write\u001b[0;34m(self, obj, orient, double_precision, ensure_ascii, date_unit, iso_dates, default_handler)\u001b[0m\n\u001b[1;32m    113\u001b[0m             \u001b[0mdate_unit\u001b[0m\u001b[0;34m=\u001b[0m\u001b[0mdate_unit\u001b[0m\u001b[0;34m,\u001b[0m\u001b[0;34m\u001b[0m\u001b[0;34m\u001b[0m\u001b[0m\n\u001b[1;32m    114\u001b[0m             \u001b[0miso_dates\u001b[0m\u001b[0;34m=\u001b[0m\u001b[0miso_dates\u001b[0m\u001b[0;34m,\u001b[0m\u001b[0;34m\u001b[0m\u001b[0;34m\u001b[0m\u001b[0m\n\u001b[0;32m--> 115\u001b[0;31m             \u001b[0mdefault_handler\u001b[0m\u001b[0;34m=\u001b[0m\u001b[0mdefault_handler\u001b[0m\u001b[0;34m\u001b[0m\u001b[0;34m\u001b[0m\u001b[0m\n\u001b[0m\u001b[1;32m    116\u001b[0m         )\n\u001b[1;32m    117\u001b[0m \u001b[0;34m\u001b[0m\u001b[0m\n",
            "\u001b[0;31mOverflowError\u001b[0m: Maximum recursion level reached"
          ]
        }
      ]
    },
    {
      "cell_type": "code",
      "metadata": {
        "id": "MasZ7eWR9_LC",
        "colab_type": "code",
        "colab": {}
      },
      "source": [
        "# Interactive Zip Code map\n",
        "base = alt.Chart(choro_data, title = 'NYC Housing Turn Over Rate').mark_geoshape(\n",
        "    stroke='black',\n",
        "    strokeWidth=0.5\n",
        ").encode(\n",
        "    longitude='properties.longitude:Q',\n",
        "    latitude='properties.latitude:Q',\n",
        ").properties(\n",
        "    width=900,\n",
        "    height=900\n",
        ")\n",
        "\n",
        "choro = alt.Chart(choro_data).mark_geoshape(\n",
        "    fill='lightgray',\n",
        "    stroke='black'\n",
        ").encode(\n",
        "    alt.Color('properties.Turnover Rate', \n",
        "              type='quantitative', \n",
        "              scale=alt.Scale(scheme='YellowOrangeBrown'),\n",
        "              title = \"Turn Over Rate\")\n",
        ")\n",
        "\n",
        "hover = alt.selection(type='single', on='mouseover', nearest=True,\n",
        "                      fields=['properties.latitude', 'properties.longitude'])\n",
        "\n",
        "\n",
        "text = base.mark_text(dy=-5, align='right').encode(\n",
        "    alt.Text('properties.postalCode', type='nominal'),\n",
        "    opacity=alt.condition(~hover, alt.value(0), alt.value(1))\n",
        ")\n",
        "\n",
        "points = base.mark_point().encode(\n",
        "    color=alt.value('black'),\n",
        "    size=alt.condition(~hover, alt.value(0), alt.value(1))\n",
        ").add_selection(hover)\n",
        "\n",
        "base + choro + points + text"
      ],
      "execution_count": 0,
      "outputs": []
    }
  ]
}