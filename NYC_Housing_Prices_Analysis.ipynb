{
  "nbformat": 4,
  "nbformat_minor": 0,
  "metadata": {
    "colab": {
      "name": "NYC-Housing-Prices-Analysis.ipynb",
      "version": "0.3.2",
      "provenance": [],
      "collapsed_sections": [],
      "include_colab_link": true
    },
    "kernelspec": {
      "name": "python3",
      "display_name": "Python 3"
    }
  },
  "cells": [
    {
      "cell_type": "markdown",
      "metadata": {
        "id": "view-in-github",
        "colab_type": "text"
      },
      "source": [
        "<a href=\"https://colab.research.google.com/github/zhuoyingcai/NYC-Housing-Prices-Analysis/blob/master/NYC_Housing_Prices_Analysis.ipynb\" target=\"_parent\"><img src=\"https://colab.research.google.com/assets/colab-badge.svg\" alt=\"Open In Colab\"/></a>"
      ]
    },
    {
      "metadata": {
        "id": "BoI8MF5o6pCd",
        "colab_type": "text"
      },
      "cell_type": "markdown",
      "source": [
        "# Import Section"
      ]
    },
    {
      "metadata": {
        "id": "IV9IUadr6ZXb",
        "colab_type": "code",
        "colab": {}
      },
      "cell_type": "code",
      "source": [
        "import os\n",
        "\n",
        "# Data\n",
        "import numpy as np\n",
        "import pandas as pd\n",
        "\n",
        "# Plot\n",
        "import seaborn as sns\n",
        "import matplotlib.pyplot as plt\n"
      ],
      "execution_count": 0,
      "outputs": []
    },
    {
      "metadata": {
        "id": "rmJhgPZb8OyS",
        "colab_type": "text"
      },
      "cell_type": "markdown",
      "source": [
        "# Path Functions"
      ]
    },
    {
      "metadata": {
        "id": "OG7O-SNQ8PpV",
        "colab_type": "code",
        "colab": {}
      },
      "cell_type": "code",
      "source": [
        "def ensure_dir(path_to_dir):\n",
        "  try:\n",
        "      os.makedirs(path_to_dir)\n",
        "  except FileExistsError:\n",
        "      # directory already exists\n",
        "      pass"
      ],
      "execution_count": 0,
      "outputs": []
    },
    {
      "metadata": {
        "id": "bODbQ3_67Lpx",
        "colab_type": "text"
      },
      "cell_type": "markdown",
      "source": [
        "# Config"
      ]
    },
    {
      "metadata": {
        "id": "m5d_W3Ir7Na2",
        "colab_type": "code",
        "outputId": "490f4da1-ad2f-47a6-fbbb-a5ef447afcfe",
        "colab": {
          "base_uri": "https://localhost:8080/",
          "height": 33
        }
      },
      "cell_type": "code",
      "source": [
        "# path config\n",
        "annualizedSalesUpdate_data_dir = '/content/drive/My Drive/Colab Notebooks/dataScience/annualizedSalesUpdate'\n",
        "data_dir = '/content/drive/My Drive/Colab Notebooks/dataScience/data'\n",
        "\n",
        "# mount google drive\n",
        "from google.colab import drive\n",
        "drive.mount('/content/drive')\n",
        "\n",
        "# make sure dir exist\n",
        "ensure_dir(data_dir)"
      ],
      "execution_count": 3,
      "outputs": [
        {
          "output_type": "stream",
          "text": [
            "Drive already mounted at /content/drive; to attempt to forcibly remount, call drive.mount(\"/content/drive\", force_remount=True).\n"
          ],
          "name": "stdout"
        }
      ]
    },
    {
      "metadata": {
        "id": "ldcq_ZNq79Vg",
        "colab_type": "text"
      },
      "cell_type": "markdown",
      "source": [
        "# 1. Load and summarize data"
      ]
    },
    {
      "metadata": {
        "id": "hGvvrBif78dK",
        "colab_type": "code",
        "colab": {}
      },
      "cell_type": "code",
      "source": [
        "# define dataframe\n",
        "df = pd.DataFrame()"
      ],
      "execution_count": 0,
      "outputs": []
    },
    {
      "metadata": {
        "id": "O7iUt7PPfkkq",
        "colab_type": "code",
        "colab": {}
      },
      "cell_type": "code",
      "source": [
        "years = [2017, 2018]\n",
        "boroughs = ['bronx', 'brooklyn', 'manhattan', 'queens', 'statenisland']\n",
        "\n",
        "# load data\n",
        "for year in years:\n",
        "  for borough in boroughs:\n",
        "    path = annualizedSalesUpdate_data_dir + '/%s_%s.xls' % (year, borough)\n",
        "    data = pd.read_excel(path, header=4)\n",
        "    df = df.append(data, sort=False)"
      ],
      "execution_count": 0,
      "outputs": []
    },
    {
      "metadata": {
        "id": "wx51wCkTBuaa",
        "colab_type": "text"
      },
      "cell_type": "markdown",
      "source": [
        "We first visually inspect the data to see if there is any missing data or incorrect data types. Also, we may want to edit data entry."
      ]
    },
    {
      "metadata": {
        "id": "h72oXx5_cQiB",
        "colab_type": "code",
        "outputId": "5694c4a8-30e4-458d-eeb4-77d1e25b8f43",
        "colab": {
          "base_uri": "https://localhost:8080/",
          "height": 440
        }
      },
      "cell_type": "code",
      "source": [
        "df.info()"
      ],
      "execution_count": 6,
      "outputs": [
        {
          "output_type": "stream",
          "text": [
            "<class 'pandas.core.frame.DataFrame'>\n",
            "Int64Index: 170407 entries, 0 to 8385\n",
            "Data columns (total 21 columns):\n",
            "BOROUGH                           170407 non-null int64\n",
            "NEIGHBORHOOD                      170407 non-null object\n",
            "BUILDING CLASS CATEGORY           170407 non-null object\n",
            "TAX CLASS AT PRESENT              170349 non-null object\n",
            "BLOCK                             170407 non-null int64\n",
            "LOT                               170407 non-null int64\n",
            "EASE-MENT                         88660 non-null object\n",
            "BUILDING CLASS AT PRESENT         170349 non-null object\n",
            "ADDRESS                           170407 non-null object\n",
            "APARTMENT NUMBER                  106536 non-null object\n",
            "ZIP CODE                          170393 non-null float64\n",
            "RESIDENTIAL UNITS                 170349 non-null float64\n",
            "COMMERCIAL UNITS                  170349 non-null float64\n",
            "TOTAL UNITS                       170349 non-null float64\n",
            "LAND SQUARE FEET                  170346 non-null float64\n",
            "GROSS SQUARE FEET                 170349 non-null float64\n",
            "YEAR BUILT                        170388 non-null float64\n",
            "TAX CLASS AT TIME OF SALE         170407 non-null int64\n",
            "BUILDING CLASS AT TIME OF SALE    170407 non-null object\n",
            "SALE PRICE                        170407 non-null int64\n",
            "SALE DATE                         170407 non-null datetime64[ns]\n",
            "dtypes: datetime64[ns](1), float64(7), int64(5), object(8)\n",
            "memory usage: 28.6+ MB\n"
          ],
          "name": "stdout"
        }
      ]
    },
    {
      "metadata": {
        "id": "hvtgoEbMAdAS",
        "colab_type": "code",
        "outputId": "42c40601-9723-41b0-bb8a-a316f0100934",
        "colab": {
          "base_uri": "https://localhost:8080/",
          "height": 788
        }
      },
      "cell_type": "code",
      "source": [
        "df.head(10)"
      ],
      "execution_count": 7,
      "outputs": [
        {
          "output_type": "execute_result",
          "data": {
            "text/html": [
              "<div>\n",
              "<style scoped>\n",
              "    .dataframe tbody tr th:only-of-type {\n",
              "        vertical-align: middle;\n",
              "    }\n",
              "\n",
              "    .dataframe tbody tr th {\n",
              "        vertical-align: top;\n",
              "    }\n",
              "\n",
              "    .dataframe thead th {\n",
              "        text-align: right;\n",
              "    }\n",
              "</style>\n",
              "<table border=\"1\" class=\"dataframe\">\n",
              "  <thead>\n",
              "    <tr style=\"text-align: right;\">\n",
              "      <th></th>\n",
              "      <th>BOROUGH</th>\n",
              "      <th>NEIGHBORHOOD</th>\n",
              "      <th>BUILDING CLASS CATEGORY</th>\n",
              "      <th>TAX CLASS AT PRESENT</th>\n",
              "      <th>BLOCK</th>\n",
              "      <th>LOT</th>\n",
              "      <th>EASE-MENT</th>\n",
              "      <th>BUILDING CLASS AT PRESENT</th>\n",
              "      <th>ADDRESS</th>\n",
              "      <th>APARTMENT NUMBER</th>\n",
              "      <th>...</th>\n",
              "      <th>RESIDENTIAL UNITS</th>\n",
              "      <th>COMMERCIAL UNITS</th>\n",
              "      <th>TOTAL UNITS</th>\n",
              "      <th>LAND SQUARE FEET</th>\n",
              "      <th>GROSS SQUARE FEET</th>\n",
              "      <th>YEAR BUILT</th>\n",
              "      <th>TAX CLASS AT TIME OF SALE</th>\n",
              "      <th>BUILDING CLASS AT TIME OF SALE</th>\n",
              "      <th>SALE PRICE</th>\n",
              "      <th>SALE DATE</th>\n",
              "    </tr>\n",
              "  </thead>\n",
              "  <tbody>\n",
              "    <tr>\n",
              "      <th>0</th>\n",
              "      <td>2</td>\n",
              "      <td>BATHGATE</td>\n",
              "      <td>01 ONE FAMILY DWELLINGS</td>\n",
              "      <td>1</td>\n",
              "      <td>3028</td>\n",
              "      <td>25</td>\n",
              "      <td></td>\n",
              "      <td>A5</td>\n",
              "      <td>412 EAST 179 STREET</td>\n",
              "      <td></td>\n",
              "      <td>...</td>\n",
              "      <td>1.0</td>\n",
              "      <td>0.0</td>\n",
              "      <td>1.0</td>\n",
              "      <td>1842.0</td>\n",
              "      <td>2048.0</td>\n",
              "      <td>1901.0</td>\n",
              "      <td>1</td>\n",
              "      <td>A5</td>\n",
              "      <td>0</td>\n",
              "      <td>2017-04-04</td>\n",
              "    </tr>\n",
              "    <tr>\n",
              "      <th>1</th>\n",
              "      <td>2</td>\n",
              "      <td>BATHGATE</td>\n",
              "      <td>01 ONE FAMILY DWELLINGS</td>\n",
              "      <td>1</td>\n",
              "      <td>3030</td>\n",
              "      <td>55</td>\n",
              "      <td></td>\n",
              "      <td>A5</td>\n",
              "      <td>410 EAST 182ND STREET</td>\n",
              "      <td></td>\n",
              "      <td>...</td>\n",
              "      <td>1.0</td>\n",
              "      <td>0.0</td>\n",
              "      <td>1.0</td>\n",
              "      <td>1330.0</td>\n",
              "      <td>1460.0</td>\n",
              "      <td>1899.0</td>\n",
              "      <td>1</td>\n",
              "      <td>A5</td>\n",
              "      <td>305000</td>\n",
              "      <td>2017-07-18</td>\n",
              "    </tr>\n",
              "    <tr>\n",
              "      <th>2</th>\n",
              "      <td>2</td>\n",
              "      <td>BATHGATE</td>\n",
              "      <td>01 ONE FAMILY DWELLINGS</td>\n",
              "      <td>1</td>\n",
              "      <td>3030</td>\n",
              "      <td>56</td>\n",
              "      <td></td>\n",
              "      <td>A1</td>\n",
              "      <td>412 EAST 182 STREET</td>\n",
              "      <td></td>\n",
              "      <td>...</td>\n",
              "      <td>1.0</td>\n",
              "      <td>0.0</td>\n",
              "      <td>1.0</td>\n",
              "      <td>1306.0</td>\n",
              "      <td>1440.0</td>\n",
              "      <td>1899.0</td>\n",
              "      <td>1</td>\n",
              "      <td>A1</td>\n",
              "      <td>178000</td>\n",
              "      <td>2017-01-19</td>\n",
              "    </tr>\n",
              "    <tr>\n",
              "      <th>3</th>\n",
              "      <td>2</td>\n",
              "      <td>BATHGATE</td>\n",
              "      <td>01 ONE FAMILY DWELLINGS</td>\n",
              "      <td>1</td>\n",
              "      <td>3030</td>\n",
              "      <td>56</td>\n",
              "      <td></td>\n",
              "      <td>A1</td>\n",
              "      <td>412 EAST 182 STREET</td>\n",
              "      <td></td>\n",
              "      <td>...</td>\n",
              "      <td>1.0</td>\n",
              "      <td>0.0</td>\n",
              "      <td>1.0</td>\n",
              "      <td>1306.0</td>\n",
              "      <td>1440.0</td>\n",
              "      <td>1899.0</td>\n",
              "      <td>1</td>\n",
              "      <td>A1</td>\n",
              "      <td>449000</td>\n",
              "      <td>2017-07-14</td>\n",
              "    </tr>\n",
              "    <tr>\n",
              "      <th>4</th>\n",
              "      <td>2</td>\n",
              "      <td>BATHGATE</td>\n",
              "      <td>01 ONE FAMILY DWELLINGS</td>\n",
              "      <td>1</td>\n",
              "      <td>3030</td>\n",
              "      <td>65</td>\n",
              "      <td></td>\n",
              "      <td>A1</td>\n",
              "      <td>4455 PARK AVENUE</td>\n",
              "      <td></td>\n",
              "      <td>...</td>\n",
              "      <td>1.0</td>\n",
              "      <td>0.0</td>\n",
              "      <td>1.0</td>\n",
              "      <td>1622.0</td>\n",
              "      <td>1587.0</td>\n",
              "      <td>1899.0</td>\n",
              "      <td>1</td>\n",
              "      <td>A1</td>\n",
              "      <td>140000</td>\n",
              "      <td>2017-05-12</td>\n",
              "    </tr>\n",
              "    <tr>\n",
              "      <th>5</th>\n",
              "      <td>2</td>\n",
              "      <td>BATHGATE</td>\n",
              "      <td>01 ONE FAMILY DWELLINGS</td>\n",
              "      <td>1</td>\n",
              "      <td>3030</td>\n",
              "      <td>70</td>\n",
              "      <td></td>\n",
              "      <td>A1</td>\n",
              "      <td>4445 PARK AVENUE</td>\n",
              "      <td></td>\n",
              "      <td>...</td>\n",
              "      <td>1.0</td>\n",
              "      <td>0.0</td>\n",
              "      <td>1.0</td>\n",
              "      <td>1694.0</td>\n",
              "      <td>1497.0</td>\n",
              "      <td>1899.0</td>\n",
              "      <td>1</td>\n",
              "      <td>A1</td>\n",
              "      <td>246000</td>\n",
              "      <td>2017-11-06</td>\n",
              "    </tr>\n",
              "    <tr>\n",
              "      <th>6</th>\n",
              "      <td>2</td>\n",
              "      <td>BATHGATE</td>\n",
              "      <td>01 ONE FAMILY DWELLINGS</td>\n",
              "      <td>1</td>\n",
              "      <td>3036</td>\n",
              "      <td>13</td>\n",
              "      <td></td>\n",
              "      <td>A1</td>\n",
              "      <td>4348 PARK AVENUE</td>\n",
              "      <td></td>\n",
              "      <td>...</td>\n",
              "      <td>1.0</td>\n",
              "      <td>0.0</td>\n",
              "      <td>1.0</td>\n",
              "      <td>3525.0</td>\n",
              "      <td>1764.0</td>\n",
              "      <td>1899.0</td>\n",
              "      <td>1</td>\n",
              "      <td>A1</td>\n",
              "      <td>420000</td>\n",
              "      <td>2017-02-03</td>\n",
              "    </tr>\n",
              "    <tr>\n",
              "      <th>7</th>\n",
              "      <td>2</td>\n",
              "      <td>BATHGATE</td>\n",
              "      <td>01 ONE FAMILY DWELLINGS</td>\n",
              "      <td>1</td>\n",
              "      <td>3037</td>\n",
              "      <td>42</td>\n",
              "      <td></td>\n",
              "      <td>A1</td>\n",
              "      <td>4428 PARK AVENUE</td>\n",
              "      <td></td>\n",
              "      <td>...</td>\n",
              "      <td>1.0</td>\n",
              "      <td>0.0</td>\n",
              "      <td>1.0</td>\n",
              "      <td>3525.0</td>\n",
              "      <td>1340.0</td>\n",
              "      <td>1899.0</td>\n",
              "      <td>1</td>\n",
              "      <td>A1</td>\n",
              "      <td>380250</td>\n",
              "      <td>2017-09-29</td>\n",
              "    </tr>\n",
              "    <tr>\n",
              "      <th>8</th>\n",
              "      <td>2</td>\n",
              "      <td>BATHGATE</td>\n",
              "      <td>01 ONE FAMILY DWELLINGS</td>\n",
              "      <td>1</td>\n",
              "      <td>3037</td>\n",
              "      <td>101</td>\n",
              "      <td></td>\n",
              "      <td>S0</td>\n",
              "      <td>443 EAST 180 STREET</td>\n",
              "      <td></td>\n",
              "      <td>...</td>\n",
              "      <td>1.0</td>\n",
              "      <td>2.0</td>\n",
              "      <td>3.0</td>\n",
              "      <td>1293.0</td>\n",
              "      <td>2820.0</td>\n",
              "      <td>1952.0</td>\n",
              "      <td>1</td>\n",
              "      <td>S0</td>\n",
              "      <td>325000</td>\n",
              "      <td>2017-11-13</td>\n",
              "    </tr>\n",
              "    <tr>\n",
              "      <th>9</th>\n",
              "      <td>2</td>\n",
              "      <td>BATHGATE</td>\n",
              "      <td>01 ONE FAMILY DWELLINGS</td>\n",
              "      <td>1</td>\n",
              "      <td>3043</td>\n",
              "      <td>55</td>\n",
              "      <td></td>\n",
              "      <td>A1</td>\n",
              "      <td>1948 BATHGATE AVENUE</td>\n",
              "      <td></td>\n",
              "      <td>...</td>\n",
              "      <td>1.0</td>\n",
              "      <td>0.0</td>\n",
              "      <td>1.0</td>\n",
              "      <td>2356.0</td>\n",
              "      <td>2047.0</td>\n",
              "      <td>1901.0</td>\n",
              "      <td>1</td>\n",
              "      <td>A1</td>\n",
              "      <td>127000</td>\n",
              "      <td>2017-08-22</td>\n",
              "    </tr>\n",
              "  </tbody>\n",
              "</table>\n",
              "<p>10 rows × 21 columns</p>\n",
              "</div>"
            ],
            "text/plain": [
              "   BOROUGH NEIGHBORHOOD                      BUILDING CLASS CATEGORY  \\\n",
              "0        2     BATHGATE  01 ONE FAMILY DWELLINGS                       \n",
              "1        2     BATHGATE  01 ONE FAMILY DWELLINGS                       \n",
              "2        2     BATHGATE  01 ONE FAMILY DWELLINGS                       \n",
              "3        2     BATHGATE  01 ONE FAMILY DWELLINGS                       \n",
              "4        2     BATHGATE  01 ONE FAMILY DWELLINGS                       \n",
              "5        2     BATHGATE  01 ONE FAMILY DWELLINGS                       \n",
              "6        2     BATHGATE  01 ONE FAMILY DWELLINGS                       \n",
              "7        2     BATHGATE  01 ONE FAMILY DWELLINGS                       \n",
              "8        2     BATHGATE  01 ONE FAMILY DWELLINGS                       \n",
              "9        2     BATHGATE  01 ONE FAMILY DWELLINGS                       \n",
              "\n",
              "  TAX CLASS AT PRESENT  BLOCK  LOT EASE-MENT BUILDING CLASS AT PRESENT  \\\n",
              "0                    1   3028   25                                  A5   \n",
              "1                    1   3030   55                                  A5   \n",
              "2                    1   3030   56                                  A1   \n",
              "3                    1   3030   56                                  A1   \n",
              "4                    1   3030   65                                  A1   \n",
              "5                    1   3030   70                                  A1   \n",
              "6                    1   3036   13                                  A1   \n",
              "7                    1   3037   42                                  A1   \n",
              "8                    1   3037  101                                  S0   \n",
              "9                    1   3043   55                                  A1   \n",
              "\n",
              "                 ADDRESS APARTMENT NUMBER  ...  RESIDENTIAL UNITS  \\\n",
              "0    412 EAST 179 STREET                   ...                1.0   \n",
              "1  410 EAST 182ND STREET                   ...                1.0   \n",
              "2    412 EAST 182 STREET                   ...                1.0   \n",
              "3    412 EAST 182 STREET                   ...                1.0   \n",
              "4       4455 PARK AVENUE                   ...                1.0   \n",
              "5       4445 PARK AVENUE                   ...                1.0   \n",
              "6       4348 PARK AVENUE                   ...                1.0   \n",
              "7       4428 PARK AVENUE                   ...                1.0   \n",
              "8    443 EAST 180 STREET                   ...                1.0   \n",
              "9   1948 BATHGATE AVENUE                   ...                1.0   \n",
              "\n",
              "   COMMERCIAL UNITS  TOTAL UNITS  LAND SQUARE FEET  GROSS SQUARE FEET  \\\n",
              "0               0.0          1.0            1842.0             2048.0   \n",
              "1               0.0          1.0            1330.0             1460.0   \n",
              "2               0.0          1.0            1306.0             1440.0   \n",
              "3               0.0          1.0            1306.0             1440.0   \n",
              "4               0.0          1.0            1622.0             1587.0   \n",
              "5               0.0          1.0            1694.0             1497.0   \n",
              "6               0.0          1.0            3525.0             1764.0   \n",
              "7               0.0          1.0            3525.0             1340.0   \n",
              "8               2.0          3.0            1293.0             2820.0   \n",
              "9               0.0          1.0            2356.0             2047.0   \n",
              "\n",
              "   YEAR BUILT  TAX CLASS AT TIME OF SALE  BUILDING CLASS AT TIME OF SALE  \\\n",
              "0      1901.0                          1                              A5   \n",
              "1      1899.0                          1                              A5   \n",
              "2      1899.0                          1                              A1   \n",
              "3      1899.0                          1                              A1   \n",
              "4      1899.0                          1                              A1   \n",
              "5      1899.0                          1                              A1   \n",
              "6      1899.0                          1                              A1   \n",
              "7      1899.0                          1                              A1   \n",
              "8      1952.0                          1                              S0   \n",
              "9      1901.0                          1                              A1   \n",
              "\n",
              "  SALE PRICE  SALE DATE  \n",
              "0          0 2017-04-04  \n",
              "1     305000 2017-07-18  \n",
              "2     178000 2017-01-19  \n",
              "3     449000 2017-07-14  \n",
              "4     140000 2017-05-12  \n",
              "5     246000 2017-11-06  \n",
              "6     420000 2017-02-03  \n",
              "7     380250 2017-09-29  \n",
              "8     325000 2017-11-13  \n",
              "9     127000 2017-08-22  \n",
              "\n",
              "[10 rows x 21 columns]"
            ]
          },
          "metadata": {
            "tags": []
          },
          "execution_count": 7
        }
      ]
    },
    {
      "metadata": {
        "colab_type": "code",
        "outputId": "8853e2d3-445f-490b-d51c-60b1d104d5ca",
        "id": "-L7JIUjNeqeV",
        "colab": {
          "base_uri": "https://localhost:8080/",
          "height": 563
        }
      },
      "cell_type": "code",
      "source": [
        "df.tail()"
      ],
      "execution_count": 8,
      "outputs": [
        {
          "output_type": "execute_result",
          "data": {
            "text/html": [
              "<div>\n",
              "<style scoped>\n",
              "    .dataframe tbody tr th:only-of-type {\n",
              "        vertical-align: middle;\n",
              "    }\n",
              "\n",
              "    .dataframe tbody tr th {\n",
              "        vertical-align: top;\n",
              "    }\n",
              "\n",
              "    .dataframe thead th {\n",
              "        text-align: right;\n",
              "    }\n",
              "</style>\n",
              "<table border=\"1\" class=\"dataframe\">\n",
              "  <thead>\n",
              "    <tr style=\"text-align: right;\">\n",
              "      <th></th>\n",
              "      <th>BOROUGH</th>\n",
              "      <th>NEIGHBORHOOD</th>\n",
              "      <th>BUILDING CLASS CATEGORY</th>\n",
              "      <th>TAX CLASS AT PRESENT</th>\n",
              "      <th>BLOCK</th>\n",
              "      <th>LOT</th>\n",
              "      <th>EASE-MENT</th>\n",
              "      <th>BUILDING CLASS AT PRESENT</th>\n",
              "      <th>ADDRESS</th>\n",
              "      <th>APARTMENT NUMBER</th>\n",
              "      <th>...</th>\n",
              "      <th>RESIDENTIAL UNITS</th>\n",
              "      <th>COMMERCIAL UNITS</th>\n",
              "      <th>TOTAL UNITS</th>\n",
              "      <th>LAND SQUARE FEET</th>\n",
              "      <th>GROSS SQUARE FEET</th>\n",
              "      <th>YEAR BUILT</th>\n",
              "      <th>TAX CLASS AT TIME OF SALE</th>\n",
              "      <th>BUILDING CLASS AT TIME OF SALE</th>\n",
              "      <th>SALE PRICE</th>\n",
              "      <th>SALE DATE</th>\n",
              "    </tr>\n",
              "  </thead>\n",
              "  <tbody>\n",
              "    <tr>\n",
              "      <th>8381</th>\n",
              "      <td>5</td>\n",
              "      <td>WOODROW</td>\n",
              "      <td>05 TAX CLASS 1 VACANT LAND</td>\n",
              "      <td>1B</td>\n",
              "      <td>7094</td>\n",
              "      <td>61</td>\n",
              "      <td>NaN</td>\n",
              "      <td>V0</td>\n",
              "      <td>23 WILTSHIRE LANE</td>\n",
              "      <td>NaN</td>\n",
              "      <td>...</td>\n",
              "      <td>0.0</td>\n",
              "      <td>0.0</td>\n",
              "      <td>0.0</td>\n",
              "      <td>4427.0</td>\n",
              "      <td>0.0</td>\n",
              "      <td>2018.0</td>\n",
              "      <td>1</td>\n",
              "      <td>V0</td>\n",
              "      <td>793216</td>\n",
              "      <td>2018-05-25</td>\n",
              "    </tr>\n",
              "    <tr>\n",
              "      <th>8382</th>\n",
              "      <td>5</td>\n",
              "      <td>WOODROW</td>\n",
              "      <td>05 TAX CLASS 1 VACANT LAND</td>\n",
              "      <td>1</td>\n",
              "      <td>7267</td>\n",
              "      <td>289</td>\n",
              "      <td>NaN</td>\n",
              "      <td>A5</td>\n",
              "      <td>41 JADE COURT</td>\n",
              "      <td>NaN</td>\n",
              "      <td>...</td>\n",
              "      <td>1.0</td>\n",
              "      <td>0.0</td>\n",
              "      <td>1.0</td>\n",
              "      <td>2955.0</td>\n",
              "      <td>2612.0</td>\n",
              "      <td>2018.0</td>\n",
              "      <td>1</td>\n",
              "      <td>V0</td>\n",
              "      <td>671026</td>\n",
              "      <td>2018-10-04</td>\n",
              "    </tr>\n",
              "    <tr>\n",
              "      <th>8383</th>\n",
              "      <td>5</td>\n",
              "      <td>WOODROW</td>\n",
              "      <td>05 TAX CLASS 1 VACANT LAND</td>\n",
              "      <td>1</td>\n",
              "      <td>7267</td>\n",
              "      <td>298</td>\n",
              "      <td>NaN</td>\n",
              "      <td>A5</td>\n",
              "      <td>11 JADE COURT</td>\n",
              "      <td>NaN</td>\n",
              "      <td>...</td>\n",
              "      <td>1.0</td>\n",
              "      <td>0.0</td>\n",
              "      <td>1.0</td>\n",
              "      <td>4108.0</td>\n",
              "      <td>2612.0</td>\n",
              "      <td>2018.0</td>\n",
              "      <td>1</td>\n",
              "      <td>V0</td>\n",
              "      <td>610950</td>\n",
              "      <td>2018-07-23</td>\n",
              "    </tr>\n",
              "    <tr>\n",
              "      <th>8384</th>\n",
              "      <td>5</td>\n",
              "      <td>WOODROW</td>\n",
              "      <td>05 TAX CLASS 1 VACANT LAND</td>\n",
              "      <td>1</td>\n",
              "      <td>7267</td>\n",
              "      <td>299</td>\n",
              "      <td>NaN</td>\n",
              "      <td>A5</td>\n",
              "      <td>9 JADE COURT</td>\n",
              "      <td>NaN</td>\n",
              "      <td>...</td>\n",
              "      <td>1.0</td>\n",
              "      <td>0.0</td>\n",
              "      <td>1.0</td>\n",
              "      <td>11019.0</td>\n",
              "      <td>2612.0</td>\n",
              "      <td>2018.0</td>\n",
              "      <td>1</td>\n",
              "      <td>V0</td>\n",
              "      <td>672043</td>\n",
              "      <td>2018-08-07</td>\n",
              "    </tr>\n",
              "    <tr>\n",
              "      <th>8385</th>\n",
              "      <td>5</td>\n",
              "      <td>WOODROW</td>\n",
              "      <td>05 TAX CLASS 1 VACANT LAND</td>\n",
              "      <td>1B</td>\n",
              "      <td>7346</td>\n",
              "      <td>1</td>\n",
              "      <td>NaN</td>\n",
              "      <td>V0</td>\n",
              "      <td>GAYNOR STREET</td>\n",
              "      <td>NaN</td>\n",
              "      <td>...</td>\n",
              "      <td>0.0</td>\n",
              "      <td>0.0</td>\n",
              "      <td>0.0</td>\n",
              "      <td>42016.0</td>\n",
              "      <td>0.0</td>\n",
              "      <td>0.0</td>\n",
              "      <td>1</td>\n",
              "      <td>V0</td>\n",
              "      <td>0</td>\n",
              "      <td>2018-09-21</td>\n",
              "    </tr>\n",
              "  </tbody>\n",
              "</table>\n",
              "<p>5 rows × 21 columns</p>\n",
              "</div>"
            ],
            "text/plain": [
              "      BOROUGH NEIGHBORHOOD     BUILDING CLASS CATEGORY TAX CLASS AT PRESENT  \\\n",
              "8381        5      WOODROW  05 TAX CLASS 1 VACANT LAND                   1B   \n",
              "8382        5      WOODROW  05 TAX CLASS 1 VACANT LAND                    1   \n",
              "8383        5      WOODROW  05 TAX CLASS 1 VACANT LAND                    1   \n",
              "8384        5      WOODROW  05 TAX CLASS 1 VACANT LAND                    1   \n",
              "8385        5      WOODROW  05 TAX CLASS 1 VACANT LAND                   1B   \n",
              "\n",
              "      BLOCK  LOT EASE-MENT BUILDING CLASS AT PRESENT            ADDRESS  \\\n",
              "8381   7094   61       NaN                        V0  23 WILTSHIRE LANE   \n",
              "8382   7267  289       NaN                        A5      41 JADE COURT   \n",
              "8383   7267  298       NaN                        A5      11 JADE COURT   \n",
              "8384   7267  299       NaN                        A5       9 JADE COURT   \n",
              "8385   7346    1       NaN                        V0      GAYNOR STREET   \n",
              "\n",
              "     APARTMENT NUMBER  ...  RESIDENTIAL UNITS  COMMERCIAL UNITS  TOTAL UNITS  \\\n",
              "8381              NaN  ...                0.0               0.0          0.0   \n",
              "8382              NaN  ...                1.0               0.0          1.0   \n",
              "8383              NaN  ...                1.0               0.0          1.0   \n",
              "8384              NaN  ...                1.0               0.0          1.0   \n",
              "8385              NaN  ...                0.0               0.0          0.0   \n",
              "\n",
              "      LAND SQUARE FEET  GROSS SQUARE FEET  YEAR BUILT  \\\n",
              "8381            4427.0                0.0      2018.0   \n",
              "8382            2955.0             2612.0      2018.0   \n",
              "8383            4108.0             2612.0      2018.0   \n",
              "8384           11019.0             2612.0      2018.0   \n",
              "8385           42016.0                0.0         0.0   \n",
              "\n",
              "      TAX CLASS AT TIME OF SALE  BUILDING CLASS AT TIME OF SALE SALE PRICE  \\\n",
              "8381                          1                              V0     793216   \n",
              "8382                          1                              V0     671026   \n",
              "8383                          1                              V0     610950   \n",
              "8384                          1                              V0     672043   \n",
              "8385                          1                              V0          0   \n",
              "\n",
              "      SALE DATE  \n",
              "8381 2018-05-25  \n",
              "8382 2018-10-04  \n",
              "8383 2018-07-23  \n",
              "8384 2018-08-07  \n",
              "8385 2018-09-21  \n",
              "\n",
              "[5 rows x 21 columns]"
            ]
          },
          "metadata": {
            "tags": []
          },
          "execution_count": 8
        }
      ]
    },
    {
      "metadata": {
        "id": "P6C2H8ADDY9J",
        "colab_type": "text"
      },
      "cell_type": "markdown",
      "source": [
        "# 2. Data Cleaning\n",
        "\n",
        "---\n",
        "\n",
        "We found two problems:\n",
        "\n",
        " 1. we see that the dataframe has 170407 entries, but TAX CLASS AT PRESENT, EASE-MENT, BUILDING CLASS AT PRESENT, APARTMENT NUMBER, ZIP CODE, RESIDENTIAL UNITS, COMMERCIAL UNITS, TOTAL UNITS, LAND SQUARE FEET, GROSS SQUARE FEET and YEAR BUILT has less entries.\n",
        " \n",
        " 2. The BROUGH is represented as numerical values rather than categorical.\n",
        " \n",
        " 3. There are some data does not make sense, such as GROSS SQUARE FEET, YEAR BUILT and SALE PRICE can not be 0.\n",
        "\n",
        "\n",
        "---\n",
        "\n",
        "\n",
        " What we are going to do next:\n",
        " \n",
        " 1. rename BOROUGH values to actual borough name.\n",
        " \n",
        " 2. drop columns that we are not going to use.\n",
        " \n",
        " 3. remove raws with null or 0 SALE PRICE, GROSS SQUARE FEET, LAND SQUARE FEET and YEAR BUILT.\n",
        " \n",
        " 4. standard data clean process to clean duplicate raws,  raws with Nah value."
      ]
    },
    {
      "metadata": {
        "id": "nok6pDvUROJx",
        "colab_type": "code",
        "colab": {}
      },
      "cell_type": "code",
      "source": [
        "df['BOROUGH'] = df['BOROUGH'].replace({1: 'Manhattan', 2: 'Bronx', 3: 'Brooklyn', 4: 'Queens', 5: 'Staten Island'})"
      ],
      "execution_count": 0,
      "outputs": []
    },
    {
      "metadata": {
        "id": "Zv5hKPDpUar3",
        "colab_type": "code",
        "colab": {}
      },
      "cell_type": "code",
      "source": [
        "df = df.drop(['BUILDING CLASS CATEGORY', 'TAX CLASS AT PRESENT', 'EASE-MENT', 'BUILDING CLASS AT PRESENT', 'ADDRESS',\n",
        "         'APARTMENT NUMBER', 'ZIP CODE', 'BUILDING CLASS AT TIME OF SALE' ], axis=1)"
      ],
      "execution_count": 0,
      "outputs": []
    },
    {
      "metadata": {
        "id": "dtK1UiKgnJxR",
        "colab_type": "code",
        "colab": {}
      },
      "cell_type": "code",
      "source": [
        "df = df[df['SALE PRICE'] != 0]\n",
        "df = df[df['GROSS SQUARE FEET'] != 0]\n",
        "df = df[df['LAND SQUARE FEET'] != 0]\n",
        "df = df[df['YEAR BUILT'] != 0]"
      ],
      "execution_count": 0,
      "outputs": []
    },
    {
      "metadata": {
        "id": "UHnIE8gK6K1s",
        "colab_type": "code",
        "colab": {}
      },
      "cell_type": "code",
      "source": [
        "df = df.drop_duplicates(keep='last')\n",
        "df = df.dropna()"
      ],
      "execution_count": 0,
      "outputs": []
    },
    {
      "metadata": {
        "id": "7NYd6p-vcUD6",
        "colab_type": "code",
        "outputId": "89144d7d-bbc1-4417-85b3-f329a17e1855",
        "colab": {
          "base_uri": "https://localhost:8080/",
          "height": 310
        }
      },
      "cell_type": "code",
      "source": [
        "df.info()"
      ],
      "execution_count": 13,
      "outputs": [
        {
          "output_type": "stream",
          "text": [
            "<class 'pandas.core.frame.DataFrame'>\n",
            "Int64Index: 64165 entries, 1 to 8384\n",
            "Data columns (total 13 columns):\n",
            "BOROUGH                      64165 non-null object\n",
            "NEIGHBORHOOD                 64165 non-null object\n",
            "BLOCK                        64165 non-null int64\n",
            "LOT                          64165 non-null int64\n",
            "RESIDENTIAL UNITS            64165 non-null float64\n",
            "COMMERCIAL UNITS             64165 non-null float64\n",
            "TOTAL UNITS                  64165 non-null float64\n",
            "LAND SQUARE FEET             64165 non-null float64\n",
            "GROSS SQUARE FEET            64165 non-null float64\n",
            "YEAR BUILT                   64165 non-null float64\n",
            "TAX CLASS AT TIME OF SALE    64165 non-null int64\n",
            "SALE PRICE                   64165 non-null int64\n",
            "SALE DATE                    64165 non-null datetime64[ns]\n",
            "dtypes: datetime64[ns](1), float64(6), int64(4), object(2)\n",
            "memory usage: 6.9+ MB\n"
          ],
          "name": "stdout"
        }
      ]
    },
    {
      "metadata": {
        "id": "0B_2BPbfpOg6",
        "colab_type": "text"
      },
      "cell_type": "markdown",
      "source": [
        "## 2.1 Outlier\n",
        "We also want to look at the distribution of our SALE PRICE.\n",
        "\n",
        "1. We noticed that there are some extremely expensive house located in Manhattan, we would like to look at it and decide whether include them in our project or not.\n",
        "\n",
        "2. The documentation of this data set explained there will be $0 sales price which means that there was a transfer of ownership without a cash consideration. However, there are some other values indicate there was a transfer of ownership which is not in the consideration of our project."
      ]
    },
    {
      "metadata": {
        "id": "KQYkAISY582m",
        "colab_type": "code",
        "outputId": "d071ed72-5c2f-408a-dc7e-aa291a18e2e5",
        "colab": {
          "base_uri": "https://localhost:8080/",
          "height": 196
        }
      },
      "cell_type": "code",
      "source": [
        "df['SALE PRICE'].value_counts(dropna=False).head(10)"
      ],
      "execution_count": 14,
      "outputs": [
        {
          "output_type": "execute_result",
          "data": {
            "text/plain": [
              "10        1267\n",
              "600000     643\n",
              "550000     610\n",
              "650000     608\n",
              "700000     592\n",
              "800000     568\n",
              "450000     561\n",
              "750000     541\n",
              "400000     535\n",
              "500000     528\n",
              "Name: SALE PRICE, dtype: int64"
            ]
          },
          "metadata": {
            "tags": []
          },
          "execution_count": 14
        }
      ]
    },
    {
      "metadata": {
        "id": "_C4ed_0frPpY",
        "colab_type": "code",
        "outputId": "ee83ccd7-fa62-458e-89a5-3e6c732c3e43",
        "colab": {
          "base_uri": "https://localhost:8080/",
          "height": 513
        }
      },
      "cell_type": "code",
      "source": [
        "df.nlargest(10, 'SALE PRICE')"
      ],
      "execution_count": 15,
      "outputs": [
        {
          "output_type": "execute_result",
          "data": {
            "text/html": [
              "<div>\n",
              "<style scoped>\n",
              "    .dataframe tbody tr th:only-of-type {\n",
              "        vertical-align: middle;\n",
              "    }\n",
              "\n",
              "    .dataframe tbody tr th {\n",
              "        vertical-align: top;\n",
              "    }\n",
              "\n",
              "    .dataframe thead th {\n",
              "        text-align: right;\n",
              "    }\n",
              "</style>\n",
              "<table border=\"1\" class=\"dataframe\">\n",
              "  <thead>\n",
              "    <tr style=\"text-align: right;\">\n",
              "      <th></th>\n",
              "      <th>BOROUGH</th>\n",
              "      <th>NEIGHBORHOOD</th>\n",
              "      <th>BLOCK</th>\n",
              "      <th>LOT</th>\n",
              "      <th>RESIDENTIAL UNITS</th>\n",
              "      <th>COMMERCIAL UNITS</th>\n",
              "      <th>TOTAL UNITS</th>\n",
              "      <th>LAND SQUARE FEET</th>\n",
              "      <th>GROSS SQUARE FEET</th>\n",
              "      <th>YEAR BUILT</th>\n",
              "      <th>TAX CLASS AT TIME OF SALE</th>\n",
              "      <th>SALE PRICE</th>\n",
              "      <th>SALE DATE</th>\n",
              "    </tr>\n",
              "  </thead>\n",
              "  <tbody>\n",
              "    <tr>\n",
              "      <th>773</th>\n",
              "      <td>Manhattan</td>\n",
              "      <td>CHELSEA</td>\n",
              "      <td>713</td>\n",
              "      <td>1</td>\n",
              "      <td>0.0</td>\n",
              "      <td>167.0</td>\n",
              "      <td>167.0</td>\n",
              "      <td>165200.0</td>\n",
              "      <td>1100533.0</td>\n",
              "      <td>1905.0</td>\n",
              "      <td>4</td>\n",
              "      <td>2397501899</td>\n",
              "      <td>2018-03-20</td>\n",
              "    </tr>\n",
              "    <tr>\n",
              "      <th>7347</th>\n",
              "      <td>Manhattan</td>\n",
              "      <td>MIDTOWN CBD</td>\n",
              "      <td>1301</td>\n",
              "      <td>1</td>\n",
              "      <td>0.0</td>\n",
              "      <td>35.0</td>\n",
              "      <td>35.0</td>\n",
              "      <td>81336.0</td>\n",
              "      <td>1586886.0</td>\n",
              "      <td>1966.0</td>\n",
              "      <td>4</td>\n",
              "      <td>2210000000</td>\n",
              "      <td>2017-05-05</td>\n",
              "    </tr>\n",
              "    <tr>\n",
              "      <th>2572</th>\n",
              "      <td>Manhattan</td>\n",
              "      <td>FINANCIAL</td>\n",
              "      <td>40</td>\n",
              "      <td>3</td>\n",
              "      <td>0.0</td>\n",
              "      <td>1.0</td>\n",
              "      <td>1.0</td>\n",
              "      <td>53632.0</td>\n",
              "      <td>1617206.0</td>\n",
              "      <td>1987.0</td>\n",
              "      <td>4</td>\n",
              "      <td>1040000000</td>\n",
              "      <td>2017-01-24</td>\n",
              "    </tr>\n",
              "    <tr>\n",
              "      <th>14970</th>\n",
              "      <td>Manhattan</td>\n",
              "      <td>UPPER WEST SIDE (59-79)</td>\n",
              "      <td>1119</td>\n",
              "      <td>61</td>\n",
              "      <td>0.0</td>\n",
              "      <td>1.0</td>\n",
              "      <td>1.0</td>\n",
              "      <td>15059.0</td>\n",
              "      <td>99769.0</td>\n",
              "      <td>1978.0</td>\n",
              "      <td>4</td>\n",
              "      <td>980000000</td>\n",
              "      <td>2018-06-15</td>\n",
              "    </tr>\n",
              "    <tr>\n",
              "      <th>771</th>\n",
              "      <td>Manhattan</td>\n",
              "      <td>CHELSEA</td>\n",
              "      <td>673</td>\n",
              "      <td>1</td>\n",
              "      <td>0.0</td>\n",
              "      <td>42.0</td>\n",
              "      <td>42.0</td>\n",
              "      <td>136000.0</td>\n",
              "      <td>1129200.0</td>\n",
              "      <td>1912.0</td>\n",
              "      <td>4</td>\n",
              "      <td>880000000</td>\n",
              "      <td>2018-10-23</td>\n",
              "    </tr>\n",
              "    <tr>\n",
              "      <th>20902</th>\n",
              "      <td>Brooklyn</td>\n",
              "      <td>SPRING CREEK</td>\n",
              "      <td>4435</td>\n",
              "      <td>1</td>\n",
              "      <td>1092.0</td>\n",
              "      <td>0.0</td>\n",
              "      <td>1092.0</td>\n",
              "      <td>358496.0</td>\n",
              "      <td>997720.0</td>\n",
              "      <td>1971.0</td>\n",
              "      <td>2</td>\n",
              "      <td>869612895</td>\n",
              "      <td>2018-05-04</td>\n",
              "    </tr>\n",
              "    <tr>\n",
              "      <th>1755</th>\n",
              "      <td>Manhattan</td>\n",
              "      <td>FASHION</td>\n",
              "      <td>840</td>\n",
              "      <td>42</td>\n",
              "      <td>0.0</td>\n",
              "      <td>4.0</td>\n",
              "      <td>4.0</td>\n",
              "      <td>51271.0</td>\n",
              "      <td>697029.0</td>\n",
              "      <td>1920.0</td>\n",
              "      <td>4</td>\n",
              "      <td>850000000</td>\n",
              "      <td>2019-02-08</td>\n",
              "    </tr>\n",
              "    <tr>\n",
              "      <th>8602</th>\n",
              "      <td>Manhattan</td>\n",
              "      <td>MIDTOWN WEST</td>\n",
              "      <td>1000</td>\n",
              "      <td>1</td>\n",
              "      <td>0.0</td>\n",
              "      <td>4.0</td>\n",
              "      <td>4.0</td>\n",
              "      <td>16066.0</td>\n",
              "      <td>369864.0</td>\n",
              "      <td>1909.0</td>\n",
              "      <td>4</td>\n",
              "      <td>719099999</td>\n",
              "      <td>2018-04-27</td>\n",
              "    </tr>\n",
              "    <tr>\n",
              "      <th>6795</th>\n",
              "      <td>Manhattan</td>\n",
              "      <td>MIDTOWN CBD</td>\n",
              "      <td>1298</td>\n",
              "      <td>23</td>\n",
              "      <td>0.0</td>\n",
              "      <td>42.0</td>\n",
              "      <td>42.0</td>\n",
              "      <td>35145.0</td>\n",
              "      <td>627691.0</td>\n",
              "      <td>1987.0</td>\n",
              "      <td>4</td>\n",
              "      <td>701000000</td>\n",
              "      <td>2018-10-30</td>\n",
              "    </tr>\n",
              "    <tr>\n",
              "      <th>2570</th>\n",
              "      <td>Manhattan</td>\n",
              "      <td>FINANCIAL</td>\n",
              "      <td>29</td>\n",
              "      <td>1</td>\n",
              "      <td>0.0</td>\n",
              "      <td>1.0</td>\n",
              "      <td>1.0</td>\n",
              "      <td>42762.0</td>\n",
              "      <td>993569.0</td>\n",
              "      <td>1983.0</td>\n",
              "      <td>4</td>\n",
              "      <td>652000000</td>\n",
              "      <td>2017-05-24</td>\n",
              "    </tr>\n",
              "  </tbody>\n",
              "</table>\n",
              "</div>"
            ],
            "text/plain": [
              "         BOROUGH             NEIGHBORHOOD  BLOCK  LOT  RESIDENTIAL UNITS  \\\n",
              "773    Manhattan                  CHELSEA    713    1                0.0   \n",
              "7347   Manhattan              MIDTOWN CBD   1301    1                0.0   \n",
              "2572   Manhattan                FINANCIAL     40    3                0.0   \n",
              "14970  Manhattan  UPPER WEST SIDE (59-79)   1119   61                0.0   \n",
              "771    Manhattan                  CHELSEA    673    1                0.0   \n",
              "20902   Brooklyn             SPRING CREEK   4435    1             1092.0   \n",
              "1755   Manhattan                  FASHION    840   42                0.0   \n",
              "8602   Manhattan             MIDTOWN WEST   1000    1                0.0   \n",
              "6795   Manhattan              MIDTOWN CBD   1298   23                0.0   \n",
              "2570   Manhattan                FINANCIAL     29    1                0.0   \n",
              "\n",
              "       COMMERCIAL UNITS  TOTAL UNITS  LAND SQUARE FEET  GROSS SQUARE FEET  \\\n",
              "773               167.0        167.0          165200.0          1100533.0   \n",
              "7347               35.0         35.0           81336.0          1586886.0   \n",
              "2572                1.0          1.0           53632.0          1617206.0   \n",
              "14970               1.0          1.0           15059.0            99769.0   \n",
              "771                42.0         42.0          136000.0          1129200.0   \n",
              "20902               0.0       1092.0          358496.0           997720.0   \n",
              "1755                4.0          4.0           51271.0           697029.0   \n",
              "8602                4.0          4.0           16066.0           369864.0   \n",
              "6795               42.0         42.0           35145.0           627691.0   \n",
              "2570                1.0          1.0           42762.0           993569.0   \n",
              "\n",
              "       YEAR BUILT  TAX CLASS AT TIME OF SALE  SALE PRICE  SALE DATE  \n",
              "773        1905.0                          4  2397501899 2018-03-20  \n",
              "7347       1966.0                          4  2210000000 2017-05-05  \n",
              "2572       1987.0                          4  1040000000 2017-01-24  \n",
              "14970      1978.0                          4   980000000 2018-06-15  \n",
              "771        1912.0                          4   880000000 2018-10-23  \n",
              "20902      1971.0                          2   869612895 2018-05-04  \n",
              "1755       1920.0                          4   850000000 2019-02-08  \n",
              "8602       1909.0                          4   719099999 2018-04-27  \n",
              "6795       1987.0                          4   701000000 2018-10-30  \n",
              "2570       1983.0                          4   652000000 2017-05-24  "
            ]
          },
          "metadata": {
            "tags": []
          },
          "execution_count": 15
        }
      ]
    },
    {
      "metadata": {
        "id": "vHCR2qUqy4LP",
        "colab_type": "code",
        "outputId": "2176965c-28a7-4fe2-e4de-cf66aaea7e87",
        "colab": {
          "base_uri": "https://localhost:8080/",
          "height": 212
        }
      },
      "cell_type": "code",
      "source": [
        "lst = df['SALE PRICE'].unique().tolist()\n",
        "lst = np.sort(lst, axis = None)\n",
        "lst[:100]"
      ],
      "execution_count": 16,
      "outputs": [
        {
          "output_type": "execute_result",
          "data": {
            "text/plain": [
              "array([    1,     2,     3,     4,     5,     6,    10,    15,    20,\n",
              "          60,   100,   125,   200,   210,   396,   416,   500,   700,\n",
              "         825,  1000,  1006,  1041,  1162,  1500,  1787,  1800,  1895,\n",
              "        2000,  2352,  2416,  2500,  2567,  3000,  3317,  3500,  3582,\n",
              "        3750,  3774,  3900,  3937,  4000,  4500,  4700,  4800,  4900,\n",
              "        4997,  5000,  5041,  5100,  5200,  5300,  5500,  5700,  5750,\n",
              "        6000,  6081,  6250,  6270,  6300,  6400,  6438,  6500,  6533,\n",
              "        6562,  6650,  7000,  7500,  7923,  7980,  8000,  8250,  8500,\n",
              "        9500,  9686,  9828, 10000, 10001, 10050, 10500, 11000, 11500,\n",
              "       11666, 12000, 12497, 12500, 12678, 12950, 13333, 13864, 13870,\n",
              "       14583, 14915, 15000, 15238, 15387, 15523, 15567, 16000, 16500,\n",
              "       16544])"
            ]
          },
          "metadata": {
            "tags": []
          },
          "execution_count": 16
        }
      ]
    },
    {
      "metadata": {
        "id": "gV_jE7HOvyMs",
        "colab_type": "code",
        "outputId": "5f1e01d5-132e-49f7-fc81-08e79a62c7b5",
        "colab": {
          "base_uri": "https://localhost:8080/",
          "height": 283
        }
      },
      "cell_type": "code",
      "source": [
        "x = np.sort(df['SALE PRICE']/1000000)\n",
        "y = np.arange(1, len(x)+1) / len(x)\n",
        "_ = plt.plot(x, y, marker='.', linestyle='none')\n",
        "_ = plt.xlabel('Sale Price (Million)')\n",
        "_ = plt.ylabel('ECDF')\n",
        "plt.margins(0.02)\n",
        "plt.show()"
      ],
      "execution_count": 17,
      "outputs": [
        {
          "output_type": "display_data",
          "data": {
            "image/png": "[encoded data removed]",
            "text/plain": [
              "<Figure size 432x288 with 1 Axes>"
            ]
          },
          "metadata": {
            "tags": []
          }
        }
      ]
    },
    {
      "metadata": {
        "id": "7_3MLeAbgd-d",
        "colab_type": "code",
        "outputId": "c6776c23-9af4-4560-f97c-85b347bc0868",
        "colab": {
          "base_uri": "https://localhost:8080/",
          "height": 290
        }
      },
      "cell_type": "code",
      "source": [
        "_ = sns.boxplot(x='BOROUGH', y='SALE PRICE', data=df)\n",
        "_ = plt.xlabel('Borough')\n",
        "_ = plt.xlabel('percent of sale price')\n",
        "plt.show()"
      ],
      "execution_count": 18,
      "outputs": [
        {
          "output_type": "display_data",
          "data": {
            "image/png": "[encoded data removed]",
            "text/plain": [
              "<Figure size 432x288 with 1 Axes>"
            ]
          },
          "metadata": {
            "tags": []
          }
        }
      ]
    },
    {
      "metadata": {
        "id": "iCxvXiEo8x30",
        "colab_type": "text"
      },
      "cell_type": "markdown",
      "source": [
        "## 2.2 Cut Unreal Price\n",
        "\n",
        "From the above data, we conclude that:\n",
        "\n",
        "1. We think the price of the most expensive buildings is reasonable. The average price for each units is not unacceptable. Hoever, We decided not to keep those data because those value is extremly large and way too far from the mean. We will set a maximum price range for the data.\n",
        "\n",
        "2. There are a lot of extremely low sale price which indicates that there was a transfer of ownership. In order to solve this problem, we decided to set a minimum price range for the data.\n",
        "\n",
        "---\n",
        "\n",
        "We set price range from ten thousands up to three millions. Houses in this price is what we can accept and would like to purchase it."
      ]
    },
    {
      "metadata": {
        "id": "9qKwACdH-VOB",
        "colab_type": "code",
        "colab": {}
      },
      "cell_type": "code",
      "source": [
        "# set max price to be 10000000\n",
        "df = df[(df['SALE PRICE'] < 3000000)]\n",
        "# set min price to be 50000\n",
        "df = df[(df['SALE PRICE'] > 100000)]"
      ],
      "execution_count": 0,
      "outputs": []
    },
    {
      "metadata": {
        "id": "ZuPq6Ja4-51F",
        "colab_type": "text"
      },
      "cell_type": "markdown",
      "source": [
        "# 3. Data Visualization"
      ]
    },
    {
      "metadata": {
        "id": "aoKMMErV-_73",
        "colab_type": "code",
        "outputId": "3eb496f7-43f7-4f6d-9b4b-9549966cbee8",
        "colab": {
          "base_uri": "https://localhost:8080/",
          "height": 301
        }
      },
      "cell_type": "code",
      "source": [
        "sns.set()\n",
        "_ = sns.distplot(df['SALE PRICE']/1000000, bins=100)\n",
        "plt.title('Sale Peice Dissribution')\n",
        "plt.xlabel('Sale Price (Million)')\n",
        "plt.ylabel('Frequency')\n",
        "plt.show()"
      ],
      "execution_count": 20,
      "outputs": [
        {
          "output_type": "display_data",
          "data": {
            "image/png": "[encoded data removed]",
            "text/plain": [
              "<Figure size 432x288 with 1 Axes>"
            ]
          },
          "metadata": {
            "tags": []
          }
        }
      ]
    },
    {
      "metadata": {
        "id": "4iZtFOEhAJtO",
        "colab_type": "code",
        "outputId": "f42ec56e-d852-4905-f428-0aa783f5ed3b",
        "colab": {
          "base_uri": "https://localhost:8080/",
          "height": 291
        }
      },
      "cell_type": "code",
      "source": [
        "# make Empirical cumulative distribution function (ECDF)\n",
        "x = np.sort(df['SALE PRICE']/1000000)\n",
        "y = np.arange(1, len(x)+1) / len(x)\n",
        "_ = plt.plot(x, y, marker='.', linestyle='none')\n",
        "_ = plt.xlabel('Sale Price (Million)')\n",
        "_ = plt.ylabel('ECDF')\n",
        "plt.margins(0.02)\n",
        "plt.show()"
      ],
      "execution_count": 21,
      "outputs": [
        {
          "output_type": "display_data",
          "data": {
            "image/png": "[encoded data removed]",
            "text/plain": [
              "<Figure size 432x288 with 1 Axes>"
            ]
          },
          "metadata": {
            "tags": []
          }
        }
      ]
    },
    {
      "metadata": {
        "id": "atSh6HB1CZbX",
        "colab_type": "text"
      },
      "cell_type": "markdown",
      "source": [
        "what to say?"
      ]
    },
    {
      "metadata": {
        "id": "ADZmqGVi0dUH",
        "colab_type": "code",
        "outputId": "d56902ab-e8a8-4b51-f108-d2c16df831f2",
        "colab": {
          "base_uri": "https://localhost:8080/",
          "height": 223
        }
      },
      "cell_type": "code",
      "source": [
        "_ = df.set_index('BOROUGH', drop=False)\n",
        "_Brooklyn = _brooklyn.loc['Brooklyn']\n",
        "_Manhattan = _brooklyn.loc['Manhattan']\n",
        "_Queens = _brooklyn.loc['Queens']\n",
        "_StatenIsland = _brooklyn.loc['Staten Island']\n",
        "_Bronx = _brooklyn.loc['Bronx']\n",
        "\n",
        "x = np.sort(_Brooklyn['SALE PRICE']/1000000)\n",
        "y = np.arange(1, len(x)+1) / len(x)\n",
        "_ = plt.plot(x, y, marker='.', linestyle='none')\n",
        "\n",
        "x = np.sort(_Manhattan['SALE PRICE']/1000000)\n",
        "y = np.arange(1, len(x)+1) / len(x)\n",
        "_ = plt.plot(x, y, marker='.', linestyle='none')\n",
        "\n",
        "x = np.sort(_Queens['SALE PRICE']/1000000)\n",
        "y = np.arange(1, len(x)+1) / len(x)\n",
        "_ = plt.plot(x, y, marker='.', linestyle='none')\n",
        "\n",
        "x = np.sort(_StatenIsland['SALE PRICE']/1000000)\n",
        "y = np.arange(1, len(x)+1) / len(x)\n",
        "_ = plt.plot(x, y, marker='.', linestyle='none')\n",
        "\n",
        "x = np.sort(_Bronx['SALE PRICE']/1000000)\n",
        "y = np.arange(1, len(x)+1) / len(x)\n",
        "_ = plt.plot(x, y, marker='.', linestyle='none')\n",
        "\n",
        "plt.legend(['Brooklyn','Manhattan','Queens','Staten Island','Bronx'])\n",
        "plt.show()"
      ],
      "execution_count": 22,
      "outputs": [
        {
          "output_type": "error",
          "ename": "NameError",
          "evalue": "ignored",
          "traceback": [
            "\u001b[0;31m---------------------------------------------------------------------------\u001b[0m",
            "\u001b[0;31mNameError\u001b[0m                                 Traceback (most recent call last)",
            "\u001b[0;32m<ipython-input-22-6c1484facd30>\u001b[0m in \u001b[0;36m<module>\u001b[0;34m()\u001b[0m\n\u001b[1;32m      1\u001b[0m \u001b[0m_\u001b[0m \u001b[0;34m=\u001b[0m \u001b[0mdf\u001b[0m\u001b[0;34m.\u001b[0m\u001b[0mset_index\u001b[0m\u001b[0;34m(\u001b[0m\u001b[0;34m'BOROUGH'\u001b[0m\u001b[0;34m,\u001b[0m \u001b[0mdrop\u001b[0m\u001b[0;34m=\u001b[0m\u001b[0;32mFalse\u001b[0m\u001b[0;34m)\u001b[0m\u001b[0;34m\u001b[0m\u001b[0;34m\u001b[0m\u001b[0m\n\u001b[0;32m----> 2\u001b[0;31m \u001b[0m_Brooklyn\u001b[0m \u001b[0;34m=\u001b[0m \u001b[0m_brooklyn\u001b[0m\u001b[0;34m.\u001b[0m\u001b[0mloc\u001b[0m\u001b[0;34m[\u001b[0m\u001b[0;34m'Brooklyn'\u001b[0m\u001b[0;34m]\u001b[0m\u001b[0;34m\u001b[0m\u001b[0;34m\u001b[0m\u001b[0m\n\u001b[0m\u001b[1;32m      3\u001b[0m \u001b[0m_Manhattan\u001b[0m \u001b[0;34m=\u001b[0m \u001b[0m_brooklyn\u001b[0m\u001b[0;34m.\u001b[0m\u001b[0mloc\u001b[0m\u001b[0;34m[\u001b[0m\u001b[0;34m'Manhattan'\u001b[0m\u001b[0;34m]\u001b[0m\u001b[0;34m\u001b[0m\u001b[0;34m\u001b[0m\u001b[0m\n\u001b[1;32m      4\u001b[0m \u001b[0m_Queens\u001b[0m \u001b[0;34m=\u001b[0m \u001b[0m_brooklyn\u001b[0m\u001b[0;34m.\u001b[0m\u001b[0mloc\u001b[0m\u001b[0;34m[\u001b[0m\u001b[0;34m'Queens'\u001b[0m\u001b[0;34m]\u001b[0m\u001b[0;34m\u001b[0m\u001b[0;34m\u001b[0m\u001b[0m\n\u001b[1;32m      5\u001b[0m \u001b[0m_StatenIsland\u001b[0m \u001b[0;34m=\u001b[0m \u001b[0m_brooklyn\u001b[0m\u001b[0;34m.\u001b[0m\u001b[0mloc\u001b[0m\u001b[0;34m[\u001b[0m\u001b[0;34m'Staten Island'\u001b[0m\u001b[0;34m]\u001b[0m\u001b[0;34m\u001b[0m\u001b[0;34m\u001b[0m\u001b[0m\n",
            "\u001b[0;31mNameError\u001b[0m: name '_brooklyn' is not defined"
          ]
        }
      ]
    },
    {
      "metadata": {
        "id": "YtNKxVxuhazB",
        "colab_type": "code",
        "colab": {}
      },
      "cell_type": "code",
      "source": [
        "# shows the average price in each boroughs\n",
        "_ = sns.boxplot(x='BOROUGH', y='SALE PRICE', data=df)\n",
        "_ = plt.xlabel('Borough')\n",
        "_ = plt.xlabel('percent of sale price')\n",
        "plt.show()"
      ],
      "execution_count": 0,
      "outputs": []
    },
    {
      "metadata": {
        "id": "e25EqQxqB07_",
        "colab_type": "text"
      },
      "cell_type": "markdown",
      "source": [
        "We can see the housing turnover rate from blow figure. Which are: Manhattan >> Brooklyn > Queens > Bronx >= Staten Island."
      ]
    }
  ]
}